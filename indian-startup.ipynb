{
 "cells": [
  {
   "attachments": {},
   "cell_type": "markdown",
   "metadata": {},
   "source": [
    "# The Indian Start-up Ecosytem"
   ]
  },
  {
   "attachments": {},
   "cell_type": "markdown",
   "metadata": {},
   "source": [
    "### Installations"
   ]
  },
  {
   "cell_type": "code",
   "execution_count": 2,
   "metadata": {},
   "outputs": [],
   "source": [
    "# %pip install seaborn\n",
    "# %pip install plotly --upgrade"
   ]
  },
  {
   "cell_type": "markdown",
   "metadata": {},
   "source": [
    "### Importation"
   ]
  },
  {
   "cell_type": "code",
   "execution_count": 3,
   "metadata": {},
   "outputs": [],
   "source": [
    "import pandas as pd\n",
    "import numpy as np\n",
    "import matplotlib.pyplot as plt\n",
    "import seaborn as sns\n",
    "from scipy import stats\n",
    "import plotly.express as px\n",
    "import re\n",
    "import matplotlib.pyplot as plt\n",
    "import warnings\n",
    "warnings.filterwarnings('ignore')"
   ]
  },
  {
   "attachments": {},
   "cell_type": "markdown",
   "metadata": {},
   "source": [
    "### Load Data"
   ]
  },
  {
   "cell_type": "code",
   "execution_count": 4,
   "metadata": {},
   "outputs": [],
   "source": [
    "data_2018 =  pd.read_csv('data/startup_funding2018.csv')\n",
    "data_2019 =  pd.read_csv('data/startup_funding2019.csv')\n",
    "data_2020 =  pd.read_csv('data/startup_funding2020.csv')\n",
    "data_2021 =  pd.read_csv('data/startup_funding2021.csv')"
   ]
  },
  {
   "attachments": {},
   "cell_type": "markdown",
   "metadata": {},
   "source": [
    "## Hypothesis and Questions\n",
    "\n",
    "\n",
    "Ho = Funding is not dependent on industry/sector.\n",
    "\n",
    "Ha = Funding is highly dependent on the industry/sector a company is in.\n",
    "\n",
    "\n",
    "\n",
    "\n",
    "1. What industry received the most funding?\n",
    "2. Which locations receives more funding?\n",
    "3. In which year is funding the highest?\n",
    "4. How many compnies received funding above $100,000,000 and what industry are they in?\n",
    "5. For companies in the pre-seed stage of funding, how much is the average pre-seed amount, and what industry are they in?"
   ]
  },
  {
   "attachments": {},
   "cell_type": "markdown",
   "metadata": {},
   "source": [
    "## Exploratory Data Analysis"
   ]
  },
  {
   "cell_type": "code",
   "execution_count": 5,
   "metadata": {},
   "outputs": [
    {
     "data": {
      "text/plain": [
       "Index(['Company Name', 'Industry', 'Round/Series', 'Amount', 'Location',\n",
       "       'About Company'],\n",
       "      dtype='object')"
      ]
     },
     "execution_count": 5,
     "metadata": {},
     "output_type": "execute_result"
    }
   ],
   "source": [
    "data_2018.columns"
   ]
  },
  {
   "attachments": {},
   "cell_type": "markdown",
   "metadata": {},
   "source": [
    "Change 2018 columns to match column specified in the project"
   ]
  },
  {
   "cell_type": "code",
   "execution_count": 6,
   "metadata": {},
   "outputs": [],
   "source": [
    "data_2018.rename(columns={\n",
    "    'Company Name':'Company/Brand',\n",
    "    'Industry':'Sector',\n",
    "    'About Company':'What it does',\n",
    "    'Amount':'Amount($)',\n",
    "    'Location':'HeadQuarter',\n",
    "    'Round/Series':'Stage',\n",
    "}, inplace=True)"
   ]
  },
  {
   "cell_type": "code",
   "execution_count": 7,
   "metadata": {},
   "outputs": [
    {
     "data": {
      "text/plain": [
       "Index(['Company/Brand', 'Sector', 'Stage', 'Amount($)', 'HeadQuarter',\n",
       "       'What it does'],\n",
       "      dtype='object')"
      ]
     },
     "execution_count": 7,
     "metadata": {},
     "output_type": "execute_result"
    }
   ],
   "source": [
    "data_2018.columns"
   ]
  },
  {
   "cell_type": "code",
   "execution_count": 8,
   "metadata": {},
   "outputs": [
    {
     "data": {
      "text/html": [
       "<div>\n",
       "<style scoped>\n",
       "    .dataframe tbody tr th:only-of-type {\n",
       "        vertical-align: middle;\n",
       "    }\n",
       "\n",
       "    .dataframe tbody tr th {\n",
       "        vertical-align: top;\n",
       "    }\n",
       "\n",
       "    .dataframe thead th {\n",
       "        text-align: right;\n",
       "    }\n",
       "</style>\n",
       "<table border=\"1\" class=\"dataframe\">\n",
       "  <thead>\n",
       "    <tr style=\"text-align: right;\">\n",
       "      <th></th>\n",
       "      <th>Company/Brand</th>\n",
       "      <th>Sector</th>\n",
       "      <th>Stage</th>\n",
       "      <th>Amount($)</th>\n",
       "      <th>HeadQuarter</th>\n",
       "      <th>What it does</th>\n",
       "    </tr>\n",
       "  </thead>\n",
       "  <tbody>\n",
       "    <tr>\n",
       "      <th>0</th>\n",
       "      <td>TheCollegeFever</td>\n",
       "      <td>Brand Marketing, Event Promotion, Marketing, S...</td>\n",
       "      <td>Seed</td>\n",
       "      <td>250000</td>\n",
       "      <td>Bangalore, Karnataka, India</td>\n",
       "      <td>TheCollegeFever is a hub for fun, fiesta and f...</td>\n",
       "    </tr>\n",
       "    <tr>\n",
       "      <th>1</th>\n",
       "      <td>Happy Cow Dairy</td>\n",
       "      <td>Agriculture, Farming</td>\n",
       "      <td>Seed</td>\n",
       "      <td>₹40,000,000</td>\n",
       "      <td>Mumbai, Maharashtra, India</td>\n",
       "      <td>A startup which aggregates milk from dairy far...</td>\n",
       "    </tr>\n",
       "    <tr>\n",
       "      <th>2</th>\n",
       "      <td>MyLoanCare</td>\n",
       "      <td>Credit, Financial Services, Lending, Marketplace</td>\n",
       "      <td>Series A</td>\n",
       "      <td>₹65,000,000</td>\n",
       "      <td>Gurgaon, Haryana, India</td>\n",
       "      <td>Leading Online Loans Marketplace in India</td>\n",
       "    </tr>\n",
       "    <tr>\n",
       "      <th>3</th>\n",
       "      <td>PayMe India</td>\n",
       "      <td>Financial Services, FinTech</td>\n",
       "      <td>Angel</td>\n",
       "      <td>2000000</td>\n",
       "      <td>Noida, Uttar Pradesh, India</td>\n",
       "      <td>PayMe India is an innovative FinTech organizat...</td>\n",
       "    </tr>\n",
       "    <tr>\n",
       "      <th>4</th>\n",
       "      <td>Eunimart</td>\n",
       "      <td>E-Commerce Platforms, Retail, SaaS</td>\n",
       "      <td>Seed</td>\n",
       "      <td>—</td>\n",
       "      <td>Hyderabad, Andhra Pradesh, India</td>\n",
       "      <td>Eunimart is a one stop solution for merchants ...</td>\n",
       "    </tr>\n",
       "  </tbody>\n",
       "</table>\n",
       "</div>"
      ],
      "text/plain": [
       "     Company/Brand                                             Sector  \\\n",
       "0  TheCollegeFever  Brand Marketing, Event Promotion, Marketing, S...   \n",
       "1  Happy Cow Dairy                               Agriculture, Farming   \n",
       "2       MyLoanCare   Credit, Financial Services, Lending, Marketplace   \n",
       "3      PayMe India                        Financial Services, FinTech   \n",
       "4         Eunimart                 E-Commerce Platforms, Retail, SaaS   \n",
       "\n",
       "      Stage    Amount($)                       HeadQuarter  \\\n",
       "0      Seed       250000       Bangalore, Karnataka, India   \n",
       "1      Seed  ₹40,000,000        Mumbai, Maharashtra, India   \n",
       "2  Series A  ₹65,000,000           Gurgaon, Haryana, India   \n",
       "3     Angel      2000000       Noida, Uttar Pradesh, India   \n",
       "4      Seed            —  Hyderabad, Andhra Pradesh, India   \n",
       "\n",
       "                                        What it does  \n",
       "0  TheCollegeFever is a hub for fun, fiesta and f...  \n",
       "1  A startup which aggregates milk from dairy far...  \n",
       "2          Leading Online Loans Marketplace in India  \n",
       "3  PayMe India is an innovative FinTech organizat...  \n",
       "4  Eunimart is a one stop solution for merchants ...  "
      ]
     },
     "execution_count": 8,
     "metadata": {},
     "output_type": "execute_result"
    }
   ],
   "source": [
    "data_2018.head()"
   ]
  },
  {
   "cell_type": "code",
   "execution_count": 9,
   "metadata": {},
   "outputs": [
    {
     "data": {
      "text/html": [
       "<div>\n",
       "<style scoped>\n",
       "    .dataframe tbody tr th:only-of-type {\n",
       "        vertical-align: middle;\n",
       "    }\n",
       "\n",
       "    .dataframe tbody tr th {\n",
       "        vertical-align: top;\n",
       "    }\n",
       "\n",
       "    .dataframe thead th {\n",
       "        text-align: right;\n",
       "    }\n",
       "</style>\n",
       "<table border=\"1\" class=\"dataframe\">\n",
       "  <thead>\n",
       "    <tr style=\"text-align: right;\">\n",
       "      <th></th>\n",
       "      <th>Company/Brand</th>\n",
       "      <th>Sector</th>\n",
       "      <th>Stage</th>\n",
       "      <th>Amount($)</th>\n",
       "      <th>HeadQuarter</th>\n",
       "      <th>What it does</th>\n",
       "      <th>Founders</th>\n",
       "      <th>Investor</th>\n",
       "    </tr>\n",
       "  </thead>\n",
       "  <tbody>\n",
       "    <tr>\n",
       "      <th>0</th>\n",
       "      <td>TheCollegeFever</td>\n",
       "      <td>Brand Marketing, Event Promotion, Marketing, S...</td>\n",
       "      <td>Seed</td>\n",
       "      <td>250000</td>\n",
       "      <td>Bangalore, Karnataka, India</td>\n",
       "      <td>TheCollegeFever is a hub for fun, fiesta and f...</td>\n",
       "      <td>NaN</td>\n",
       "      <td>NaN</td>\n",
       "    </tr>\n",
       "    <tr>\n",
       "      <th>1</th>\n",
       "      <td>Happy Cow Dairy</td>\n",
       "      <td>Agriculture, Farming</td>\n",
       "      <td>Seed</td>\n",
       "      <td>₹40,000,000</td>\n",
       "      <td>Mumbai, Maharashtra, India</td>\n",
       "      <td>A startup which aggregates milk from dairy far...</td>\n",
       "      <td>NaN</td>\n",
       "      <td>NaN</td>\n",
       "    </tr>\n",
       "    <tr>\n",
       "      <th>2</th>\n",
       "      <td>MyLoanCare</td>\n",
       "      <td>Credit, Financial Services, Lending, Marketplace</td>\n",
       "      <td>Series A</td>\n",
       "      <td>₹65,000,000</td>\n",
       "      <td>Gurgaon, Haryana, India</td>\n",
       "      <td>Leading Online Loans Marketplace in India</td>\n",
       "      <td>NaN</td>\n",
       "      <td>NaN</td>\n",
       "    </tr>\n",
       "    <tr>\n",
       "      <th>3</th>\n",
       "      <td>PayMe India</td>\n",
       "      <td>Financial Services, FinTech</td>\n",
       "      <td>Angel</td>\n",
       "      <td>2000000</td>\n",
       "      <td>Noida, Uttar Pradesh, India</td>\n",
       "      <td>PayMe India is an innovative FinTech organizat...</td>\n",
       "      <td>NaN</td>\n",
       "      <td>NaN</td>\n",
       "    </tr>\n",
       "    <tr>\n",
       "      <th>4</th>\n",
       "      <td>Eunimart</td>\n",
       "      <td>E-Commerce Platforms, Retail, SaaS</td>\n",
       "      <td>Seed</td>\n",
       "      <td>—</td>\n",
       "      <td>Hyderabad, Andhra Pradesh, India</td>\n",
       "      <td>Eunimart is a one stop solution for merchants ...</td>\n",
       "      <td>NaN</td>\n",
       "      <td>NaN</td>\n",
       "    </tr>\n",
       "  </tbody>\n",
       "</table>\n",
       "</div>"
      ],
      "text/plain": [
       "     Company/Brand                                             Sector  \\\n",
       "0  TheCollegeFever  Brand Marketing, Event Promotion, Marketing, S...   \n",
       "1  Happy Cow Dairy                               Agriculture, Farming   \n",
       "2       MyLoanCare   Credit, Financial Services, Lending, Marketplace   \n",
       "3      PayMe India                        Financial Services, FinTech   \n",
       "4         Eunimart                 E-Commerce Platforms, Retail, SaaS   \n",
       "\n",
       "      Stage    Amount($)                       HeadQuarter  \\\n",
       "0      Seed       250000       Bangalore, Karnataka, India   \n",
       "1      Seed  ₹40,000,000        Mumbai, Maharashtra, India   \n",
       "2  Series A  ₹65,000,000           Gurgaon, Haryana, India   \n",
       "3     Angel      2000000       Noida, Uttar Pradesh, India   \n",
       "4      Seed            —  Hyderabad, Andhra Pradesh, India   \n",
       "\n",
       "                                        What it does  Founders  Investor  \n",
       "0  TheCollegeFever is a hub for fun, fiesta and f...       NaN       NaN  \n",
       "1  A startup which aggregates milk from dairy far...       NaN       NaN  \n",
       "2          Leading Online Loans Marketplace in India       NaN       NaN  \n",
       "3  PayMe India is an innovative FinTech organizat...       NaN       NaN  \n",
       "4  Eunimart is a one stop solution for merchants ...       NaN       NaN  "
      ]
     },
     "execution_count": 9,
     "metadata": {},
     "output_type": "execute_result"
    }
   ],
   "source": [
    "data_2018['Founders'] = np.nan\n",
    "data_2018['Investor'] = np.nan\n",
    "data_2018.head()"
   ]
  },
  {
   "cell_type": "code",
   "execution_count": 10,
   "metadata": {},
   "outputs": [
    {
     "data": {
      "text/plain": [
       "Index(['Company/Brand', 'Sector', 'Stage', 'Amount($)', 'HeadQuarter',\n",
       "       'What it does', 'Founders', 'Investor'],\n",
       "      dtype='object')"
      ]
     },
     "execution_count": 10,
     "metadata": {},
     "output_type": "execute_result"
    }
   ],
   "source": [
    "data_2018.columns"
   ]
  },
  {
   "attachments": {},
   "cell_type": "markdown",
   "metadata": {},
   "source": [
    "#### Dropping all Founded columns since it is not required for the project"
   ]
  },
  {
   "cell_type": "code",
   "execution_count": 11,
   "metadata": {},
   "outputs": [],
   "source": [
    "data_2019.drop(columns='Founded', inplace=True)\n",
    "data_2020.drop(columns='Founded', inplace=True)\n",
    "data_2021.drop(columns='Founded', inplace=True)\n",
    "data_2020.drop(columns='Unnamed: 9', inplace=True)\n"
   ]
  },
  {
   "attachments": {},
   "cell_type": "markdown",
   "metadata": {},
   "source": [
    "##### I want to track the year a company was funded to accurately answer my hypothesis question"
   ]
  },
  {
   "cell_type": "code",
   "execution_count": 12,
   "metadata": {},
   "outputs": [],
   "source": [
    "data_2018['Year'] = '2018'\n",
    "data_2019['Year'] = '2019'\n",
    "data_2020['Year'] = '2020'\n",
    "data_2021['Year'] = '2021'"
   ]
  },
  {
   "cell_type": "code",
   "execution_count": 13,
   "metadata": {},
   "outputs": [
    {
     "data": {
      "text/plain": [
       "Index(['Company/Brand', 'HeadQuarter', 'Sector', 'What it does', 'Founders',\n",
       "       'Investor', 'Amount($)', 'Stage', 'Year'],\n",
       "      dtype='object')"
      ]
     },
     "execution_count": 13,
     "metadata": {},
     "output_type": "execute_result"
    }
   ],
   "source": [
    "data_2019.columns"
   ]
  },
  {
   "cell_type": "code",
   "execution_count": 14,
   "metadata": {},
   "outputs": [
    {
     "data": {
      "text/plain": [
       "Index(['Company/Brand', 'HeadQuarter', 'Sector', 'What it does', 'Founders',\n",
       "       'Investor', 'Amount($)', 'Stage', 'Year'],\n",
       "      dtype='object')"
      ]
     },
     "execution_count": 14,
     "metadata": {},
     "output_type": "execute_result"
    }
   ],
   "source": [
    "data_2020.columns"
   ]
  },
  {
   "cell_type": "code",
   "execution_count": 15,
   "metadata": {},
   "outputs": [
    {
     "data": {
      "text/plain": [
       "Index(['Company/Brand', 'HeadQuarter', 'Sector', 'What it does', 'Founders',\n",
       "       'Investor', 'Amount($)', 'Stage', 'Year'],\n",
       "      dtype='object')"
      ]
     },
     "execution_count": 15,
     "metadata": {},
     "output_type": "execute_result"
    }
   ],
   "source": [
    "data_2021.columns"
   ]
  },
  {
   "attachments": {},
   "cell_type": "markdown",
   "metadata": {},
   "source": [
    "Merging all my differnt dataframes"
   ]
  },
  {
   "cell_type": "code",
   "execution_count": 16,
   "metadata": {},
   "outputs": [
    {
     "data": {
      "text/html": [
       "<div>\n",
       "<style scoped>\n",
       "    .dataframe tbody tr th:only-of-type {\n",
       "        vertical-align: middle;\n",
       "    }\n",
       "\n",
       "    .dataframe tbody tr th {\n",
       "        vertical-align: top;\n",
       "    }\n",
       "\n",
       "    .dataframe thead th {\n",
       "        text-align: right;\n",
       "    }\n",
       "</style>\n",
       "<table border=\"1\" class=\"dataframe\">\n",
       "  <thead>\n",
       "    <tr style=\"text-align: right;\">\n",
       "      <th></th>\n",
       "      <th>Company/Brand</th>\n",
       "      <th>Sector</th>\n",
       "      <th>Stage</th>\n",
       "      <th>Amount($)</th>\n",
       "      <th>HeadQuarter</th>\n",
       "      <th>What it does</th>\n",
       "      <th>Founders</th>\n",
       "      <th>Investor</th>\n",
       "      <th>Year</th>\n",
       "    </tr>\n",
       "  </thead>\n",
       "  <tbody>\n",
       "    <tr>\n",
       "      <th>0</th>\n",
       "      <td>TheCollegeFever</td>\n",
       "      <td>Brand Marketing, Event Promotion, Marketing, S...</td>\n",
       "      <td>Seed</td>\n",
       "      <td>250000</td>\n",
       "      <td>Bangalore, Karnataka, India</td>\n",
       "      <td>TheCollegeFever is a hub for fun, fiesta and f...</td>\n",
       "      <td>NaN</td>\n",
       "      <td>NaN</td>\n",
       "      <td>2018</td>\n",
       "    </tr>\n",
       "    <tr>\n",
       "      <th>1</th>\n",
       "      <td>Happy Cow Dairy</td>\n",
       "      <td>Agriculture, Farming</td>\n",
       "      <td>Seed</td>\n",
       "      <td>₹40,000,000</td>\n",
       "      <td>Mumbai, Maharashtra, India</td>\n",
       "      <td>A startup which aggregates milk from dairy far...</td>\n",
       "      <td>NaN</td>\n",
       "      <td>NaN</td>\n",
       "      <td>2018</td>\n",
       "    </tr>\n",
       "    <tr>\n",
       "      <th>2</th>\n",
       "      <td>MyLoanCare</td>\n",
       "      <td>Credit, Financial Services, Lending, Marketplace</td>\n",
       "      <td>Series A</td>\n",
       "      <td>₹65,000,000</td>\n",
       "      <td>Gurgaon, Haryana, India</td>\n",
       "      <td>Leading Online Loans Marketplace in India</td>\n",
       "      <td>NaN</td>\n",
       "      <td>NaN</td>\n",
       "      <td>2018</td>\n",
       "    </tr>\n",
       "    <tr>\n",
       "      <th>3</th>\n",
       "      <td>PayMe India</td>\n",
       "      <td>Financial Services, FinTech</td>\n",
       "      <td>Angel</td>\n",
       "      <td>2000000</td>\n",
       "      <td>Noida, Uttar Pradesh, India</td>\n",
       "      <td>PayMe India is an innovative FinTech organizat...</td>\n",
       "      <td>NaN</td>\n",
       "      <td>NaN</td>\n",
       "      <td>2018</td>\n",
       "    </tr>\n",
       "    <tr>\n",
       "      <th>4</th>\n",
       "      <td>Eunimart</td>\n",
       "      <td>E-Commerce Platforms, Retail, SaaS</td>\n",
       "      <td>Seed</td>\n",
       "      <td>—</td>\n",
       "      <td>Hyderabad, Andhra Pradesh, India</td>\n",
       "      <td>Eunimart is a one stop solution for merchants ...</td>\n",
       "      <td>NaN</td>\n",
       "      <td>NaN</td>\n",
       "      <td>2018</td>\n",
       "    </tr>\n",
       "  </tbody>\n",
       "</table>\n",
       "</div>"
      ],
      "text/plain": [
       "     Company/Brand                                             Sector  \\\n",
       "0  TheCollegeFever  Brand Marketing, Event Promotion, Marketing, S...   \n",
       "1  Happy Cow Dairy                               Agriculture, Farming   \n",
       "2       MyLoanCare   Credit, Financial Services, Lending, Marketplace   \n",
       "3      PayMe India                        Financial Services, FinTech   \n",
       "4         Eunimart                 E-Commerce Platforms, Retail, SaaS   \n",
       "\n",
       "      Stage    Amount($)                       HeadQuarter  \\\n",
       "0      Seed       250000       Bangalore, Karnataka, India   \n",
       "1      Seed  ₹40,000,000        Mumbai, Maharashtra, India   \n",
       "2  Series A  ₹65,000,000           Gurgaon, Haryana, India   \n",
       "3     Angel      2000000       Noida, Uttar Pradesh, India   \n",
       "4      Seed            —  Hyderabad, Andhra Pradesh, India   \n",
       "\n",
       "                                        What it does Founders Investor  Year  \n",
       "0  TheCollegeFever is a hub for fun, fiesta and f...      NaN      NaN  2018  \n",
       "1  A startup which aggregates milk from dairy far...      NaN      NaN  2018  \n",
       "2          Leading Online Loans Marketplace in India      NaN      NaN  2018  \n",
       "3  PayMe India is an innovative FinTech organizat...      NaN      NaN  2018  \n",
       "4  Eunimart is a one stop solution for merchants ...      NaN      NaN  2018  "
      ]
     },
     "execution_count": 16,
     "metadata": {},
     "output_type": "execute_result"
    }
   ],
   "source": [
    "dataframes = [data_2018, data_2019, data_2020, data_2021]\n",
    "\n",
    "data = pd.concat(dataframes, ignore_index=True)\n",
    "data.head()"
   ]
  },
  {
   "cell_type": "code",
   "execution_count": 17,
   "metadata": {},
   "outputs": [
    {
     "data": {
      "text/html": [
       "<div>\n",
       "<style scoped>\n",
       "    .dataframe tbody tr th:only-of-type {\n",
       "        vertical-align: middle;\n",
       "    }\n",
       "\n",
       "    .dataframe tbody tr th {\n",
       "        vertical-align: top;\n",
       "    }\n",
       "\n",
       "    .dataframe thead th {\n",
       "        text-align: right;\n",
       "    }\n",
       "</style>\n",
       "<table border=\"1\" class=\"dataframe\">\n",
       "  <thead>\n",
       "    <tr style=\"text-align: right;\">\n",
       "      <th></th>\n",
       "      <th>Company/Brand</th>\n",
       "      <th>Sector</th>\n",
       "      <th>Stage</th>\n",
       "      <th>Amount($)</th>\n",
       "      <th>HeadQuarter</th>\n",
       "      <th>What it does</th>\n",
       "      <th>Founders</th>\n",
       "      <th>Investor</th>\n",
       "      <th>Year</th>\n",
       "    </tr>\n",
       "  </thead>\n",
       "  <tbody>\n",
       "    <tr>\n",
       "      <th>count</th>\n",
       "      <td>2879</td>\n",
       "      <td>2861</td>\n",
       "      <td>1941</td>\n",
       "      <td>2873</td>\n",
       "      <td>2765</td>\n",
       "      <td>2879</td>\n",
       "      <td>2334</td>\n",
       "      <td>2253</td>\n",
       "      <td>2879</td>\n",
       "    </tr>\n",
       "    <tr>\n",
       "      <th>unique</th>\n",
       "      <td>2214</td>\n",
       "      <td>873</td>\n",
       "      <td>75</td>\n",
       "      <td>699</td>\n",
       "      <td>172</td>\n",
       "      <td>2691</td>\n",
       "      <td>1980</td>\n",
       "      <td>1777</td>\n",
       "      <td>4</td>\n",
       "    </tr>\n",
       "    <tr>\n",
       "      <th>top</th>\n",
       "      <td>BharatPe</td>\n",
       "      <td>FinTech</td>\n",
       "      <td>Seed</td>\n",
       "      <td>Undisclosed</td>\n",
       "      <td>Bangalore</td>\n",
       "      <td>BYJU'S is an educational technology company th...</td>\n",
       "      <td>Byju Raveendran</td>\n",
       "      <td>Inflection Point Ventures</td>\n",
       "      <td>2021</td>\n",
       "    </tr>\n",
       "    <tr>\n",
       "      <th>freq</th>\n",
       "      <td>10</td>\n",
       "      <td>173</td>\n",
       "      <td>606</td>\n",
       "      <td>298</td>\n",
       "      <td>764</td>\n",
       "      <td>5</td>\n",
       "      <td>7</td>\n",
       "      <td>36</td>\n",
       "      <td>1209</td>\n",
       "    </tr>\n",
       "  </tbody>\n",
       "</table>\n",
       "</div>"
      ],
      "text/plain": [
       "       Company/Brand   Sector Stage    Amount($) HeadQuarter  \\\n",
       "count           2879     2861  1941         2873        2765   \n",
       "unique          2214      873    75          699         172   \n",
       "top         BharatPe  FinTech  Seed  Undisclosed   Bangalore   \n",
       "freq              10      173   606          298         764   \n",
       "\n",
       "                                             What it does         Founders  \\\n",
       "count                                                2879             2334   \n",
       "unique                                               2691             1980   \n",
       "top     BYJU'S is an educational technology company th...  Byju Raveendran   \n",
       "freq                                                    5                7   \n",
       "\n",
       "                         Investor  Year  \n",
       "count                        2253  2879  \n",
       "unique                       1777     4  \n",
       "top     Inflection Point Ventures  2021  \n",
       "freq                           36  1209  "
      ]
     },
     "execution_count": 17,
     "metadata": {},
     "output_type": "execute_result"
    }
   ],
   "source": [
    "data.describe()"
   ]
  },
  {
   "cell_type": "code",
   "execution_count": 18,
   "metadata": {},
   "outputs": [
    {
     "name": "stdout",
     "output_type": "stream",
     "text": [
      "<class 'pandas.core.frame.DataFrame'>\n",
      "RangeIndex: 2879 entries, 0 to 2878\n",
      "Data columns (total 9 columns):\n",
      " #   Column         Non-Null Count  Dtype \n",
      "---  ------         --------------  ----- \n",
      " 0   Company/Brand  2879 non-null   object\n",
      " 1   Sector         2861 non-null   object\n",
      " 2   Stage          1941 non-null   object\n",
      " 3   Amount($)      2873 non-null   object\n",
      " 4   HeadQuarter    2765 non-null   object\n",
      " 5   What it does   2879 non-null   object\n",
      " 6   Founders       2334 non-null   object\n",
      " 7   Investor       2253 non-null   object\n",
      " 8   Year           2879 non-null   object\n",
      "dtypes: object(9)\n",
      "memory usage: 202.6+ KB\n"
     ]
    }
   ],
   "source": [
    "data.info()"
   ]
  },
  {
   "cell_type": "code",
   "execution_count": 19,
   "metadata": {},
   "outputs": [
    {
     "data": {
      "text/plain": [
       "23"
      ]
     },
     "execution_count": 19,
     "metadata": {},
     "output_type": "execute_result"
    }
   ],
   "source": [
    "data.duplicated().sum()"
   ]
  },
  {
   "cell_type": "code",
   "execution_count": 20,
   "metadata": {},
   "outputs": [],
   "source": [
    "data.drop_duplicates(inplace=True)"
   ]
  },
  {
   "cell_type": "code",
   "execution_count": 21,
   "metadata": {},
   "outputs": [
    {
     "data": {
      "text/plain": [
       "0"
      ]
     },
     "execution_count": 21,
     "metadata": {},
     "output_type": "execute_result"
    }
   ],
   "source": [
    "data.duplicated().sum()"
   ]
  },
  {
   "cell_type": "code",
   "execution_count": 22,
   "metadata": {},
   "outputs": [
    {
     "data": {
      "text/plain": [
       "Company/Brand      0\n",
       "Sector            18\n",
       "Stage            929\n",
       "Amount($)          6\n",
       "HeadQuarter      114\n",
       "What it does       0\n",
       "Founders         544\n",
       "Investor         624\n",
       "Year               0\n",
       "dtype: int64"
      ]
     },
     "execution_count": 22,
     "metadata": {},
     "output_type": "execute_result"
    }
   ],
   "source": [
    "data.isna().sum()"
   ]
  },
  {
   "attachments": {},
   "cell_type": "markdown",
   "metadata": {},
   "source": [
    "Let's Start with the Amount($) column\n",
    "\n",
    "- Checking for uniques values"
   ]
  },
  {
   "cell_type": "code",
   "execution_count": 23,
   "metadata": {},
   "outputs": [
    {
     "data": {
      "text/plain": [
       "array(['250000', '₹40,000,000', '₹65,000,000', '2000000', '—', '1600000',\n",
       "       '₹16,000,000', '₹50,000,000', '₹100,000,000', '150000', '1100000',\n",
       "       '₹500,000', '6000000', '650000', '₹35,000,000', '₹64,000,000',\n",
       "       '₹20,000,000', '1000000', '5000000', '4000000', '₹30,000,000',\n",
       "       '2800000', '1700000', '1300000', '₹5,000,000', '₹12,500,000',\n",
       "       '₹15,000,000', '500000', '₹104,000,000', '₹45,000,000', '13400000',\n",
       "       '₹25,000,000', '₹26,400,000', '₹8,000,000', '₹60,000', '9000000',\n",
       "       '100000', '20000', '120000', '₹34,000,000', '₹342,000,000',\n",
       "       '$143,145', '₹600,000,000', '$742,000,000', '₹1,000,000,000',\n",
       "       '₹2,000,000,000', '$3,980,000', '$10,000', '₹100,000',\n",
       "       '₹250,000,000', '$1,000,000,000', '$7,000,000', '$35,000,000',\n",
       "       '₹550,000,000', '$28,500,000', '$2,000,000', '₹240,000,000',\n",
       "       '₹120,000,000', '$2,400,000', '$30,000,000', '₹2,500,000,000',\n",
       "       '$23,000,000', '$150,000', '$11,000,000', '₹44,000,000',\n",
       "       '$3,240,000', '₹60,000,000', '$540,000,000', '₹650,000,000',\n",
       "       '₹1,600,000,000', '$900,000', '$10,000,000', '$1,500,000',\n",
       "       '₹70,000,000', '$1,000,000', '$5,000,000', '$14,000,000',\n",
       "       '₹102,500,000', '$100,000,000', '₹1,200,000', '₹5,200,000,000',\n",
       "       '$800,000', '$1,041,000', '$100,000', '$15,000', '1400000',\n",
       "       '1200000', '2200000', '1800000', '3600000', '₹9,500,000', '300000',\n",
       "       '6830000', '200000', '₹150,000,000', '4300000', '364846', '400000',\n",
       "       '1500000', '₹7,000,000', '₹1,400,000', '₹10,000,000',\n",
       "       '₹22,500,000', '13200000', '50000', '₹140,200,000', '3000000',\n",
       "       '1250000', '180000', '₹19,200,000', '₹103,000,000', '4200000',\n",
       "       '175000', '1450000', '₹200,000', '4500000', '600000',\n",
       "       '₹16,600,000', '₹12,000,000', '15000000', '₹33,000,000', '125000',\n",
       "       '130000', '₹34,900,000', '₹72,000,000', '17200000', '₹32,000,000',\n",
       "       '3500000', '₹135,000,000', '12000000', '$40,000,000', '$1,100,000',\n",
       "       '$50,000,000', '₹1,540,000,000', '$3,000,000', '$6,000,000',\n",
       "       '₹140,000,000', '$41,900,000', '₹1,410,000,000', '$3,530,000',\n",
       "       '$200,000', '$3,300,000', '₹580,000,000', '₹36,000,000',\n",
       "       '₹340,000,000', '$210,000,000', '$37,680,000', '$250,000',\n",
       "       '$20,000', '₹510,000,000', '₹2,200,000,000', '22000000', '70000',\n",
       "       '10000000', '₹15,392,000,000', '₹20,000,000,000', '₹4,000,000,000',\n",
       "       '185000000', '65000000', '₹165,000,000', '700000', '30000000',\n",
       "       '₹210,000,000', '210000000', '₹2,029,600,000', '75000000',\n",
       "       '₹80,000,000', '1760000', '2700000', '₹280,000,000',\n",
       "       '₹800,000,000', '750000', '2500000', '80000000', '25000000',\n",
       "       '₹730,000,000', '₹400,000,000', '3700000', '5600000',\n",
       "       '₹260,000,000', '99230000', '70000000', '40000', '550000',\n",
       "       '50000000', '365000000', '₹8,750,000', '₹78,000,000', '28000000',\n",
       "       '₹264,000,000', '100000000', '₹1,130,000,000', '₹810,000,000',\n",
       "       '₹1,400,000,000', '14900000', '225000000', '7500', '35000000',\n",
       "       '$6,300,000', '$150,000,000', '$28,000,000', 'Undisclosed',\n",
       "       '$20,000,000', '$275,000,000', '$22,000,000', '$140,500',\n",
       "       '$15,000,000', '$182,700', '$12,000,000', '$15,500,000',\n",
       "       '$5,500,000', '$2,500,000', '$140,000', '$230,000,000',\n",
       "       '$49,400,000', '$32,000,000', '$26,000,000', '$400,000',\n",
       "       '$8,000,000', '$120,000,000', '$4,000,000', '$6,800,000',\n",
       "       '$36,000,000', '$5,700,000', '$25,000,000', '$600,000',\n",
       "       '$70,000,000', '$60,000,000', '$220,000', '$2,800,000',\n",
       "       '$2,100,000', '$311,000,000', '$4,800,000', '$693,000,000',\n",
       "       '$33,000,000', '$340,000', '$45,000,000', '$1,200,000',\n",
       "       '$660,000,000', '$120,000', '$7,500,000', '$500,000',\n",
       "       '$145,000,000', nan, '$21,000,000', '$560,000', '$275,000',\n",
       "       '$4,500,000', '$390,000,000', '$5,100,000', '$700,000,000',\n",
       "       '$2,300,000', '$700,000', '$19,000,000', '$9,000,000', '$750,000',\n",
       "       '$7,800,000', '$80,000,000', '$1,700,000', '$40,000', '$300,000',\n",
       "       '$3,500,000', '$200,000,000', '$1,300,000', '$4,100,000',\n",
       "       '$575,000', '$18,000,000', '$3,200,000', '$4,700,000',\n",
       "       '$75,000,000', '$121,000,000', '$55,000,000', '$16,000,000',\n",
       "       '$5,400,000', '$4,200,000', '$52,000,000', '$118,000,000',\n",
       "       '$1,600,000', '$18,500,000', '$70,000,000,000', '$800,000,000',\n",
       "       '$400,000,000', '$176,000,000', '$470,000', '$240,000',\n",
       "       '$3,000,000,000', '$74,000,000', '$62,000,000', '$500,000,000',\n",
       "       '$12,500,000', '$2,200,000,000', '$5,060,000', '$225,000,000',\n",
       "       '$24,700,000', '$7,700,000', '$1,90,67,328', '$51,000,000',\n",
       "       '$115,000', '$54,000', '$803,146', '$238,000', '$10,220,000',\n",
       "       '$1,020,000', '$13,400,000', '$170,000,000', '$2,900,000',\n",
       "       '$543,000', '$90,000,000', '$3,400,000', '$8,090,000',\n",
       "       '$1,030,000', '$5,040,000', '$360,000', '$1,400,000', '$650,000',\n",
       "       '$54,000,000', '$42,500,000', '$11,370,000', '$325,000',\n",
       "       '$410,000', '$450,000', '$682,000', '$4,050,000', '$1,050,000',\n",
       "       '$1,080,000', '$4,300,000', '$2,110,000', '$887,000, $23,000,000',\n",
       "       '$764,000', '$603,000', '$409,000', '$292,000', '$286,000',\n",
       "       '$136,000', '$800,000,000 to $850,000,000', '$546,000', '$887,000',\n",
       "       '$43,000', '$40,900', '$2,200,000', '$5,660,000', '$350,000',\n",
       "       '$110,000', '$122,000,000', '$11,635,000', '$1,065,000',\n",
       "       '$669,000', '$16,076,000', '$649,600', '$6,700,000', '$266,500',\n",
       "       '$2,879,000', '$26,500,000', '$351,000', '$ 8,700,000',\n",
       "       '$46,761,000', '$175,000', '9.600,000', '$11,241,000', '$804,000',\n",
       "       '$1,340,000', '$467,000', '$133,000', '$3,823,000', '$934,000',\n",
       "       '$293,000', '$198,000', '$927,000', '$971,000', '$3,060,000',\n",
       "       '$1,862,000', '$232,000', '$2,888,000', '$1,328,000',\n",
       "       '$56,000,000', '$2,250,000', '$16,753,000', '$3,700,000',\n",
       "       '$1,470,000', '$530,000', '$267,000', '$3,344,000', '$7,200,000',\n",
       "       '$2,743,000', '$6,082,000', '$6,609,000', '$27,700,000',\n",
       "       '$5,940,000', '$3,964,000', '$197,000', '$4,327,000', '$459,000',\n",
       "       '$3,937,000', '$1,313,500', '$229,800', '$5,305,000', '$264,000',\n",
       "       '$1,750,000', '$5,967,000', '$2,980,000', 'Undiclsosed',\n",
       "       '$323,000', '$1,326,000', '$27,000,000', '$5,200,000',\n",
       "       '$2,530,000', '$792,000', '$11,363,000', '$1,715,000', '$329,000',\n",
       "       '$5,271,000', '$8,700,000', '$3,226,000', '$5,900,000',\n",
       "       '$44,000,000', '$3,879,000', '$13,000,000', '$8,800,000',\n",
       "       '$9,500,000', '$920,000', '$35,600,000', '$9,400,000', '$790,000',\n",
       "       '$480,000', '$160,000', '$8,200,000', '$4,257,000', '$1,410,000',\n",
       "       '$349,800', '$786,000', '$2,004,000', '$123,000,000', '$248,000',\n",
       "       '$24,000,000', '$14,259,000', '$24,500,000', '$3,800,000',\n",
       "       '$18,370,000', '$68,525,000', '$1,834,000', '$23,850,000',\n",
       "       '$43,000,000', '$21,600,000', '$4,598,000', '$13,137,000',\n",
       "       '$115,000,000', '$3,900,000', '$670,000', '42.23,000',\n",
       "       '$8,500,000', '$3,148,000', '$2,600,000', '25,58,000',\n",
       "       '$4,049,500', '$10,500,000', '$6,500,000', '$43,700,000',\n",
       "       '$13,800,000', '$306,900', '$420,000', '$627,300', '$113,000,000',\n",
       "       '$110,000,000', '$1,397,000', '$448,500', '$7,975,700', '$330,000',\n",
       "       '$5,600,000', '$1,402,000', '$21,500,000', '$296,000,000',\n",
       "       '$4,900,000', '$1,402,400', '$12,618,300', '$9,900,000',\n",
       "       '$982,530', '$70,185,200', '$84,000,000', '$39,000,000',\n",
       "       '$2,700,000', '$1,403,400', '$105,000,000', '$103,000,000',\n",
       "       '$281,300', '$12,700', '$25,000', '$97,500,000', '$507,000',\n",
       "       'Undislosed', '$8,400,000', '$18,300,000', '$125,000,000',\n",
       "       '$181,000', '$280,000', '$14,700,000', '$13,200,000', '$8,043,000',\n",
       "       '$188,000,000', '$49,000,000', '$160,000,000', '$1,800,000',\n",
       "       '$850,000', '$53,000,000', '$7,400,000', '$17,000,000',\n",
       "       '$215,000,000', '$350,000,000', '$83,000,000', '$65,000,000',\n",
       "       '$150,000,000,000', '$300,000,000', '$140,000,000', '$Undisclosed',\n",
       "       '$2000000', '$800000', '$6000000', '$2500000', '$9500000',\n",
       "       '$13000000', '$5000000', '$8000000', '$1000000', 'Upsparks',\n",
       "       '$200000', '$12000000', '$1500000', '$1700000', '$5500000',\n",
       "       '$400000', '$150000000', '$4000000', '$100000000', '$500000',\n",
       "       '$15000000', '$10000000', '$40000000', '$225000000', '$6700000',\n",
       "       '$1300000', '$20000000', '$250000', '$21000000', '$1200000',\n",
       "       '$52000000', '$3800000', '$17500000', '$42000000', '$2300000',\n",
       "       '$7000000', '$30000000', '$450000000', '$28000000', '$300000',\n",
       "       '$3500000', '$8500000', '$25000000', '$3000000', '$37000000',\n",
       "       '$370000000', '$700000', '$16000000', '$100000', '$44000000',\n",
       "       '$770000', '$125000000', '$35000000', '$50000000', '$4900000',\n",
       "       '$145000000', '$22000000', '$70000000', '$6600000', '$32000000',\n",
       "       '$24000000', '$725000', '$461000', 'Series C', 'Seed', '$96000000',\n",
       "       '$60000000', '$500000000', '$266000000', '$4500000', '$325000000',\n",
       "       '$6500000', '$1600000', '$225000', '$85000000', '$235000',\n",
       "       '$260000', '$2900000', '$53000000', '$1100000', '$150000',\n",
       "       '$86000000', '$130000', '$$100,00', '$111000000', '$265000',\n",
       "       '$76000000', '$260,000', '$95,000,000', '$14,300,000',\n",
       "       '$81,000,000', '$280,000,000', '$720,000', '$600000', '$9000000',\n",
       "       '$1800000', '$330000', '$undisclosed', '$200000000', '$36000000',\n",
       "       '$67000000', '$10200000', '$220000000', '$108000000', '$75000000',\n",
       "       '$450000', '$660000000', 'ah! Ventures', '$45000000', '$3200000',\n",
       "       '$370000', 'Pre-series A', 'ITO Angel Network, LetsVenture',\n",
       "       '$48000000', '$3600000', '$11000000', '$192000000', '$65000000',\n",
       "       '$1400000', '$1900000', '$41000000', '$144000000', '$5200000',\n",
       "       '$270000000', '$140000', '$250000000', '$320000', '$350000000',\n",
       "       '$4800000', '$38000000', '$125000', '$26000000', '$64000000',\n",
       "       '$620000', '$900000', 'JITO Angel Network, LetsVenture',\n",
       "       '$2600000', '$1,250,000', '$234,000,000', '$460,000,000',\n",
       "       '$13,500,000', '$195,000,000', '$125,000', '$7,300,000',\n",
       "       '$16,500,000', '$3300000', '$92000000', '$17000000', '$135000000',\n",
       "       '$$1,55,000', '$2100000', '$840000000', '$248000000', '$4300000',\n",
       "       '$570000', '$2200000', '$4700000', '$300000000', '$260000000',\n",
       "       '$140000000', '$175000000', '$19000000', '$810000', '$7500000',\n",
       "       '$600000000', '$90000000', '$5700000', '$6750000', '$78000000',\n",
       "       '$5400000', '$115000000', '$255000000', '$18000000', '$570000000',\n",
       "       '$550000', '$2700000', '$4200000', '$31000000', '$540000',\n",
       "       '$14000000', '$340000', '$', '$6200000', '$750000', '$6300000',\n",
       "       '$23000000', '$55000000'], dtype=object)"
      ]
     },
     "execution_count": 23,
     "metadata": {},
     "output_type": "execute_result"
    }
   ],
   "source": [
    "data['Amount($)'].unique()"
   ]
  },
  {
   "attachments": {},
   "cell_type": "markdown",
   "metadata": {},
   "source": [
    "#### Engineering a feature 'Original Currency' to track on what rows the conversion of the currencies should be done \n",
    "\n",
    "##### Asumptions\n",
    "\n",
    "1. Each value in the amount column if it has a symbol, belongs to that currency\n",
    "2. If value has no symbol and length of (value - symbol) > 8, then that value is in Rupees\n",
    "3. Conversion rate been used is middle of the year 30th June 2018 \n"
   ]
  },
  {
   "cell_type": "code",
   "execution_count": 24,
   "metadata": {},
   "outputs": [
    {
     "data": {
      "text/html": [
       "<div>\n",
       "<style scoped>\n",
       "    .dataframe tbody tr th:only-of-type {\n",
       "        vertical-align: middle;\n",
       "    }\n",
       "\n",
       "    .dataframe tbody tr th {\n",
       "        vertical-align: top;\n",
       "    }\n",
       "\n",
       "    .dataframe thead th {\n",
       "        text-align: right;\n",
       "    }\n",
       "</style>\n",
       "<table border=\"1\" class=\"dataframe\">\n",
       "  <thead>\n",
       "    <tr style=\"text-align: right;\">\n",
       "      <th></th>\n",
       "      <th>Company/Brand</th>\n",
       "      <th>Sector</th>\n",
       "      <th>Stage</th>\n",
       "      <th>Amount($)</th>\n",
       "      <th>HeadQuarter</th>\n",
       "      <th>What it does</th>\n",
       "      <th>Founders</th>\n",
       "      <th>Investor</th>\n",
       "      <th>Year</th>\n",
       "      <th>Original Currency</th>\n",
       "    </tr>\n",
       "  </thead>\n",
       "  <tbody>\n",
       "    <tr>\n",
       "      <th>0</th>\n",
       "      <td>TheCollegeFever</td>\n",
       "      <td>Brand Marketing, Event Promotion, Marketing, S...</td>\n",
       "      <td>Seed</td>\n",
       "      <td>250000</td>\n",
       "      <td>Bangalore, Karnataka, India</td>\n",
       "      <td>TheCollegeFever is a hub for fun, fiesta and f...</td>\n",
       "      <td>NaN</td>\n",
       "      <td>NaN</td>\n",
       "      <td>2018</td>\n",
       "      <td>Dollars</td>\n",
       "    </tr>\n",
       "    <tr>\n",
       "      <th>1</th>\n",
       "      <td>Happy Cow Dairy</td>\n",
       "      <td>Agriculture, Farming</td>\n",
       "      <td>Seed</td>\n",
       "      <td>₹40000000</td>\n",
       "      <td>Mumbai, Maharashtra, India</td>\n",
       "      <td>A startup which aggregates milk from dairy far...</td>\n",
       "      <td>NaN</td>\n",
       "      <td>NaN</td>\n",
       "      <td>2018</td>\n",
       "      <td>Rupees</td>\n",
       "    </tr>\n",
       "    <tr>\n",
       "      <th>2</th>\n",
       "      <td>MyLoanCare</td>\n",
       "      <td>Credit, Financial Services, Lending, Marketplace</td>\n",
       "      <td>Series A</td>\n",
       "      <td>₹65000000</td>\n",
       "      <td>Gurgaon, Haryana, India</td>\n",
       "      <td>Leading Online Loans Marketplace in India</td>\n",
       "      <td>NaN</td>\n",
       "      <td>NaN</td>\n",
       "      <td>2018</td>\n",
       "      <td>Rupees</td>\n",
       "    </tr>\n",
       "    <tr>\n",
       "      <th>3</th>\n",
       "      <td>PayMe India</td>\n",
       "      <td>Financial Services, FinTech</td>\n",
       "      <td>Angel</td>\n",
       "      <td>2000000</td>\n",
       "      <td>Noida, Uttar Pradesh, India</td>\n",
       "      <td>PayMe India is an innovative FinTech organizat...</td>\n",
       "      <td>NaN</td>\n",
       "      <td>NaN</td>\n",
       "      <td>2018</td>\n",
       "      <td>Dollars</td>\n",
       "    </tr>\n",
       "    <tr>\n",
       "      <th>4</th>\n",
       "      <td>Eunimart</td>\n",
       "      <td>E-Commerce Platforms, Retail, SaaS</td>\n",
       "      <td>Seed</td>\n",
       "      <td>—</td>\n",
       "      <td>Hyderabad, Andhra Pradesh, India</td>\n",
       "      <td>Eunimart is a one stop solution for merchants ...</td>\n",
       "      <td>NaN</td>\n",
       "      <td>NaN</td>\n",
       "      <td>2018</td>\n",
       "      <td>Dollars</td>\n",
       "    </tr>\n",
       "  </tbody>\n",
       "</table>\n",
       "</div>"
      ],
      "text/plain": [
       "     Company/Brand                                             Sector  \\\n",
       "0  TheCollegeFever  Brand Marketing, Event Promotion, Marketing, S...   \n",
       "1  Happy Cow Dairy                               Agriculture, Farming   \n",
       "2       MyLoanCare   Credit, Financial Services, Lending, Marketplace   \n",
       "3      PayMe India                        Financial Services, FinTech   \n",
       "4         Eunimart                 E-Commerce Platforms, Retail, SaaS   \n",
       "\n",
       "      Stage  Amount($)                       HeadQuarter  \\\n",
       "0      Seed     250000       Bangalore, Karnataka, India   \n",
       "1      Seed  ₹40000000        Mumbai, Maharashtra, India   \n",
       "2  Series A  ₹65000000           Gurgaon, Haryana, India   \n",
       "3     Angel    2000000       Noida, Uttar Pradesh, India   \n",
       "4      Seed          —  Hyderabad, Andhra Pradesh, India   \n",
       "\n",
       "                                        What it does Founders Investor  Year  \\\n",
       "0  TheCollegeFever is a hub for fun, fiesta and f...      NaN      NaN  2018   \n",
       "1  A startup which aggregates milk from dairy far...      NaN      NaN  2018   \n",
       "2          Leading Online Loans Marketplace in India      NaN      NaN  2018   \n",
       "3  PayMe India is an innovative FinTech organizat...      NaN      NaN  2018   \n",
       "4  Eunimart is a one stop solution for merchants ...      NaN      NaN  2018   \n",
       "\n",
       "  Original Currency  \n",
       "0           Dollars  \n",
       "1            Rupees  \n",
       "2            Rupees  \n",
       "3           Dollars  \n",
       "4           Dollars  "
      ]
     },
     "execution_count": 24,
     "metadata": {},
     "output_type": "execute_result"
    }
   ],
   "source": [
    "data['Amount($)'] = data['Amount($)'].str.strip()\n",
    "data['Amount($)'] = data['Amount($)'].apply(lambda x: str(x).replace(',', ''))\n",
    "data['Original Currency'] = data['Amount($)'].apply(lambda x: 'Rupees' if '₹' in x or ('$' not in x and len(x) > 8) else 'Dollars')\n",
    "data.head()"
   ]
  },
  {
   "cell_type": "code",
   "execution_count": 25,
   "metadata": {},
   "outputs": [
    {
     "data": {
      "text/html": [
       "<div>\n",
       "<style scoped>\n",
       "    .dataframe tbody tr th:only-of-type {\n",
       "        vertical-align: middle;\n",
       "    }\n",
       "\n",
       "    .dataframe tbody tr th {\n",
       "        vertical-align: top;\n",
       "    }\n",
       "\n",
       "    .dataframe thead th {\n",
       "        text-align: right;\n",
       "    }\n",
       "</style>\n",
       "<table border=\"1\" class=\"dataframe\">\n",
       "  <thead>\n",
       "    <tr style=\"text-align: right;\">\n",
       "      <th></th>\n",
       "      <th>Company/Brand</th>\n",
       "      <th>Sector</th>\n",
       "      <th>Stage</th>\n",
       "      <th>Amount($)</th>\n",
       "      <th>HeadQuarter</th>\n",
       "      <th>What it does</th>\n",
       "      <th>Founders</th>\n",
       "      <th>Investor</th>\n",
       "      <th>Year</th>\n",
       "      <th>Original Currency</th>\n",
       "    </tr>\n",
       "  </thead>\n",
       "  <tbody>\n",
       "    <tr>\n",
       "      <th>0</th>\n",
       "      <td>TheCollegeFever</td>\n",
       "      <td>Brand Marketing, Event Promotion, Marketing, S...</td>\n",
       "      <td>Seed</td>\n",
       "      <td>250000.0</td>\n",
       "      <td>Bangalore, Karnataka, India</td>\n",
       "      <td>TheCollegeFever is a hub for fun, fiesta and f...</td>\n",
       "      <td>NaN</td>\n",
       "      <td>NaN</td>\n",
       "      <td>2018</td>\n",
       "      <td>Dollars</td>\n",
       "    </tr>\n",
       "    <tr>\n",
       "      <th>1</th>\n",
       "      <td>Happy Cow Dairy</td>\n",
       "      <td>Agriculture, Farming</td>\n",
       "      <td>Seed</td>\n",
       "      <td>40000000.0</td>\n",
       "      <td>Mumbai, Maharashtra, India</td>\n",
       "      <td>A startup which aggregates milk from dairy far...</td>\n",
       "      <td>NaN</td>\n",
       "      <td>NaN</td>\n",
       "      <td>2018</td>\n",
       "      <td>Rupees</td>\n",
       "    </tr>\n",
       "    <tr>\n",
       "      <th>2</th>\n",
       "      <td>MyLoanCare</td>\n",
       "      <td>Credit, Financial Services, Lending, Marketplace</td>\n",
       "      <td>Series A</td>\n",
       "      <td>65000000.0</td>\n",
       "      <td>Gurgaon, Haryana, India</td>\n",
       "      <td>Leading Online Loans Marketplace in India</td>\n",
       "      <td>NaN</td>\n",
       "      <td>NaN</td>\n",
       "      <td>2018</td>\n",
       "      <td>Rupees</td>\n",
       "    </tr>\n",
       "    <tr>\n",
       "      <th>3</th>\n",
       "      <td>PayMe India</td>\n",
       "      <td>Financial Services, FinTech</td>\n",
       "      <td>Angel</td>\n",
       "      <td>2000000.0</td>\n",
       "      <td>Noida, Uttar Pradesh, India</td>\n",
       "      <td>PayMe India is an innovative FinTech organizat...</td>\n",
       "      <td>NaN</td>\n",
       "      <td>NaN</td>\n",
       "      <td>2018</td>\n",
       "      <td>Dollars</td>\n",
       "    </tr>\n",
       "    <tr>\n",
       "      <th>4</th>\n",
       "      <td>Eunimart</td>\n",
       "      <td>E-Commerce Platforms, Retail, SaaS</td>\n",
       "      <td>Seed</td>\n",
       "      <td>0.0</td>\n",
       "      <td>Hyderabad, Andhra Pradesh, India</td>\n",
       "      <td>Eunimart is a one stop solution for merchants ...</td>\n",
       "      <td>NaN</td>\n",
       "      <td>NaN</td>\n",
       "      <td>2018</td>\n",
       "      <td>Dollars</td>\n",
       "    </tr>\n",
       "  </tbody>\n",
       "</table>\n",
       "</div>"
      ],
      "text/plain": [
       "     Company/Brand                                             Sector  \\\n",
       "0  TheCollegeFever  Brand Marketing, Event Promotion, Marketing, S...   \n",
       "1  Happy Cow Dairy                               Agriculture, Farming   \n",
       "2       MyLoanCare   Credit, Financial Services, Lending, Marketplace   \n",
       "3      PayMe India                        Financial Services, FinTech   \n",
       "4         Eunimart                 E-Commerce Platforms, Retail, SaaS   \n",
       "\n",
       "      Stage   Amount($)                       HeadQuarter  \\\n",
       "0      Seed    250000.0       Bangalore, Karnataka, India   \n",
       "1      Seed  40000000.0        Mumbai, Maharashtra, India   \n",
       "2  Series A  65000000.0           Gurgaon, Haryana, India   \n",
       "3     Angel   2000000.0       Noida, Uttar Pradesh, India   \n",
       "4      Seed         0.0  Hyderabad, Andhra Pradesh, India   \n",
       "\n",
       "                                        What it does Founders Investor  Year  \\\n",
       "0  TheCollegeFever is a hub for fun, fiesta and f...      NaN      NaN  2018   \n",
       "1  A startup which aggregates milk from dairy far...      NaN      NaN  2018   \n",
       "2          Leading Online Loans Marketplace in India      NaN      NaN  2018   \n",
       "3  PayMe India is an innovative FinTech organizat...      NaN      NaN  2018   \n",
       "4  Eunimart is a one stop solution for merchants ...      NaN      NaN  2018   \n",
       "\n",
       "  Original Currency  \n",
       "0           Dollars  \n",
       "1            Rupees  \n",
       "2            Rupees  \n",
       "3           Dollars  \n",
       "4           Dollars  "
      ]
     },
     "execution_count": 25,
     "metadata": {},
     "output_type": "execute_result"
    }
   ],
   "source": [
    "def clean_amount():\n",
    "    data['Amount($)'] = data['Amount($)'].astype(str)\n",
    "    data['Amount($)'] = data['Amount($)'].apply(lambda x: str(x).replace('$', \"\"))\n",
    "    data['Amount($)'] = data['Amount($)'].apply(lambda x: str(x).replace('₹', ''))\n",
    "    data['Amount($)'] = data['Amount($)'].apply(lambda x: '—' if re.search('osed|n', x) else x)\n",
    "    data['Amount($)'] = data['Amount($)'].apply(lambda x: str(x).replace('—', '0'))\n",
    "    data['Amount($)'] = data['Amount($)'].apply(lambda x: str(x).replace(',', \"\"))\n",
    "    data['Amount($)'] = data['Amount($)'].apply(lambda x: str(x).replace(' ', \"\"))\n",
    "    data['Amount($)'] = pd.to_numeric(data['Amount($)'], errors='coerce')\n",
    "    data['Amount($)'] = data['Amount($)'].astype(float)\n",
    "    \n",
    "\n",
    "clean_amount()\n",
    "data.head()"
   ]
  },
  {
   "cell_type": "code",
   "execution_count": 26,
   "metadata": {},
   "outputs": [
    {
     "name": "stdout",
     "output_type": "stream",
     "text": [
      "0.28% of our data is missing in the Amount column\n"
     ]
    }
   ],
   "source": [
    "coerce_values = data['Amount($)'].isna().sum()\n",
    "percentage = (coerce_values/data.shape[0]) * 100\n",
    "\n",
    "print(f'{percentage:.2f}% of our data is missing in the Amount column')\n",
    "\n",
    "#Not bad"
   ]
  },
  {
   "attachments": {},
   "cell_type": "markdown",
   "metadata": {},
   "source": [
    "##### We now convert the values that were tracked as rupees to dollars"
   ]
  },
  {
   "cell_type": "code",
   "execution_count": 27,
   "metadata": {},
   "outputs": [
    {
     "data": {
      "text/html": [
       "<div>\n",
       "<style scoped>\n",
       "    .dataframe tbody tr th:only-of-type {\n",
       "        vertical-align: middle;\n",
       "    }\n",
       "\n",
       "    .dataframe tbody tr th {\n",
       "        vertical-align: top;\n",
       "    }\n",
       "\n",
       "    .dataframe thead th {\n",
       "        text-align: right;\n",
       "    }\n",
       "</style>\n",
       "<table border=\"1\" class=\"dataframe\">\n",
       "  <thead>\n",
       "    <tr style=\"text-align: right;\">\n",
       "      <th></th>\n",
       "      <th>Company/Brand</th>\n",
       "      <th>Sector</th>\n",
       "      <th>Stage</th>\n",
       "      <th>Amount($)</th>\n",
       "      <th>HeadQuarter</th>\n",
       "      <th>What it does</th>\n",
       "      <th>Founders</th>\n",
       "      <th>Investor</th>\n",
       "      <th>Year</th>\n",
       "      <th>Original Currency</th>\n",
       "    </tr>\n",
       "  </thead>\n",
       "  <tbody>\n",
       "    <tr>\n",
       "      <th>0</th>\n",
       "      <td>TheCollegeFever</td>\n",
       "      <td>Brand Marketing, Event Promotion, Marketing, S...</td>\n",
       "      <td>Seed</td>\n",
       "      <td>250000.0</td>\n",
       "      <td>Bangalore, Karnataka, India</td>\n",
       "      <td>TheCollegeFever is a hub for fun, fiesta and f...</td>\n",
       "      <td>NaN</td>\n",
       "      <td>NaN</td>\n",
       "      <td>2018</td>\n",
       "      <td>Dollars</td>\n",
       "    </tr>\n",
       "    <tr>\n",
       "      <th>1</th>\n",
       "      <td>Happy Cow Dairy</td>\n",
       "      <td>Agriculture, Farming</td>\n",
       "      <td>Seed</td>\n",
       "      <td>584000.0</td>\n",
       "      <td>Mumbai, Maharashtra, India</td>\n",
       "      <td>A startup which aggregates milk from dairy far...</td>\n",
       "      <td>NaN</td>\n",
       "      <td>NaN</td>\n",
       "      <td>2018</td>\n",
       "      <td>Rupees</td>\n",
       "    </tr>\n",
       "    <tr>\n",
       "      <th>2</th>\n",
       "      <td>MyLoanCare</td>\n",
       "      <td>Credit, Financial Services, Lending, Marketplace</td>\n",
       "      <td>Series A</td>\n",
       "      <td>949000.0</td>\n",
       "      <td>Gurgaon, Haryana, India</td>\n",
       "      <td>Leading Online Loans Marketplace in India</td>\n",
       "      <td>NaN</td>\n",
       "      <td>NaN</td>\n",
       "      <td>2018</td>\n",
       "      <td>Rupees</td>\n",
       "    </tr>\n",
       "    <tr>\n",
       "      <th>3</th>\n",
       "      <td>PayMe India</td>\n",
       "      <td>Financial Services, FinTech</td>\n",
       "      <td>Angel</td>\n",
       "      <td>2000000.0</td>\n",
       "      <td>Noida, Uttar Pradesh, India</td>\n",
       "      <td>PayMe India is an innovative FinTech organizat...</td>\n",
       "      <td>NaN</td>\n",
       "      <td>NaN</td>\n",
       "      <td>2018</td>\n",
       "      <td>Dollars</td>\n",
       "    </tr>\n",
       "    <tr>\n",
       "      <th>4</th>\n",
       "      <td>Eunimart</td>\n",
       "      <td>E-Commerce Platforms, Retail, SaaS</td>\n",
       "      <td>Seed</td>\n",
       "      <td>0.0</td>\n",
       "      <td>Hyderabad, Andhra Pradesh, India</td>\n",
       "      <td>Eunimart is a one stop solution for merchants ...</td>\n",
       "      <td>NaN</td>\n",
       "      <td>NaN</td>\n",
       "      <td>2018</td>\n",
       "      <td>Dollars</td>\n",
       "    </tr>\n",
       "  </tbody>\n",
       "</table>\n",
       "</div>"
      ],
      "text/plain": [
       "     Company/Brand                                             Sector  \\\n",
       "0  TheCollegeFever  Brand Marketing, Event Promotion, Marketing, S...   \n",
       "1  Happy Cow Dairy                               Agriculture, Farming   \n",
       "2       MyLoanCare   Credit, Financial Services, Lending, Marketplace   \n",
       "3      PayMe India                        Financial Services, FinTech   \n",
       "4         Eunimart                 E-Commerce Platforms, Retail, SaaS   \n",
       "\n",
       "      Stage  Amount($)                       HeadQuarter  \\\n",
       "0      Seed   250000.0       Bangalore, Karnataka, India   \n",
       "1      Seed   584000.0        Mumbai, Maharashtra, India   \n",
       "2  Series A   949000.0           Gurgaon, Haryana, India   \n",
       "3     Angel  2000000.0       Noida, Uttar Pradesh, India   \n",
       "4      Seed        0.0  Hyderabad, Andhra Pradesh, India   \n",
       "\n",
       "                                        What it does Founders Investor  Year  \\\n",
       "0  TheCollegeFever is a hub for fun, fiesta and f...      NaN      NaN  2018   \n",
       "1  A startup which aggregates milk from dairy far...      NaN      NaN  2018   \n",
       "2          Leading Online Loans Marketplace in India      NaN      NaN  2018   \n",
       "3  PayMe India is an innovative FinTech organizat...      NaN      NaN  2018   \n",
       "4  Eunimart is a one stop solution for merchants ...      NaN      NaN  2018   \n",
       "\n",
       "  Original Currency  \n",
       "0           Dollars  \n",
       "1            Rupees  \n",
       "2            Rupees  \n",
       "3           Dollars  \n",
       "4           Dollars  "
      ]
     },
     "execution_count": 27,
     "metadata": {},
     "output_type": "execute_result"
    }
   ],
   "source": [
    "exchange_rate = 0.0146\n",
    "my_condition = data['Original Currency'] == 'Rupees'\n",
    "data.loc[my_condition, 'Amount($)'] = data.loc[my_condition, 'Amount($)'] * exchange_rate\n",
    "\n",
    "data.head()"
   ]
  },
  {
   "attachments": {},
   "cell_type": "markdown",
   "metadata": {},
   "source": [
    "##### Now let's delete the 'original currency' column. It has served its purpose"
   ]
  },
  {
   "cell_type": "code",
   "execution_count": 28,
   "metadata": {},
   "outputs": [],
   "source": [
    "data.drop(columns='Original Currency', inplace=True)"
   ]
  },
  {
   "cell_type": "code",
   "execution_count": 29,
   "metadata": {},
   "outputs": [
    {
     "name": "stdout",
     "output_type": "stream",
     "text": [
      "<class 'pandas.core.frame.DataFrame'>\n",
      "Int64Index: 2856 entries, 0 to 2878\n",
      "Data columns (total 9 columns):\n",
      " #   Column         Non-Null Count  Dtype  \n",
      "---  ------         --------------  -----  \n",
      " 0   Company/Brand  2856 non-null   object \n",
      " 1   Sector         2838 non-null   object \n",
      " 2   Stage          1927 non-null   object \n",
      " 3   Amount($)      2848 non-null   float64\n",
      " 4   HeadQuarter    2742 non-null   object \n",
      " 5   What it does   2856 non-null   object \n",
      " 6   Founders       2312 non-null   object \n",
      " 7   Investor       2232 non-null   object \n",
      " 8   Year           2856 non-null   object \n",
      "dtypes: float64(1), object(8)\n",
      "memory usage: 223.1+ KB\n"
     ]
    }
   ],
   "source": [
    "data.info()"
   ]
  },
  {
   "attachments": {},
   "cell_type": "markdown",
   "metadata": {},
   "source": [
    "#### Now to deal with the HeadQuarters with multiple locations\n",
    "\n",
    "Goal\n",
    "\n",
    "- Create a helper function to clean up the headquaters column\n",
    "\n",
    "Assumption\n",
    "\n",
    "1. The first place listed is the principal headquaters\n",
    "2. Since the entire dataset is about India, India can be dropped as well\n",
    "\n",
    "\n",
    "Note \n",
    "\n",
    "- We have 114 null headquaters\n",
    "- Let's check the headquaters uniques values\n",
    "\n",
    "\n"
   ]
  },
  {
   "cell_type": "code",
   "execution_count": 30,
   "metadata": {},
   "outputs": [
    {
     "data": {
      "text/plain": [
       "array(['Bangalore, Karnataka, India', 'Mumbai, Maharashtra, India',\n",
       "       'Gurgaon, Haryana, India', 'Noida, Uttar Pradesh, India',\n",
       "       'Hyderabad, Andhra Pradesh, India', 'Bengaluru, Karnataka, India',\n",
       "       'Kalkaji, Delhi, India', 'Delhi, Delhi, India', 'India, Asia',\n",
       "       'Hubli, Karnataka, India', 'New Delhi, Delhi, India',\n",
       "       'Chennai, Tamil Nadu, India', 'Mohali, Punjab, India',\n",
       "       'Kolkata, West Bengal, India', 'Pune, Maharashtra, India',\n",
       "       'Jodhpur, Rajasthan, India', 'Kanpur, Uttar Pradesh, India',\n",
       "       'Ahmedabad, Gujarat, India', 'Azadpur, Delhi, India',\n",
       "       'Haryana, Haryana, India', 'Cochin, Kerala, India',\n",
       "       'Faridabad, Haryana, India', 'Jaipur, Rajasthan, India',\n",
       "       'Kota, Rajasthan, India', 'Anand, Gujarat, India',\n",
       "       'Bangalore City, Karnataka, India', 'Belgaum, Karnataka, India',\n",
       "       'Thane, Maharashtra, India', 'Margão, Goa, India',\n",
       "       'Indore, Madhya Pradesh, India', 'Alwar, Rajasthan, India',\n",
       "       'Kannur, Kerala, India', 'Trivandrum, Kerala, India',\n",
       "       'Ernakulam, Kerala, India', 'Kormangala, Karnataka, India',\n",
       "       'Uttar Pradesh, India, Asia', 'Andheri, Maharashtra, India',\n",
       "       'Mylapore, Tamil Nadu, India', 'Ghaziabad, Uttar Pradesh, India',\n",
       "       'Kochi, Kerala, India', 'Powai, Assam, India',\n",
       "       'Guntur, Andhra Pradesh, India', 'Kalpakkam, Tamil Nadu, India',\n",
       "       'Bhopal, Madhya Pradesh, India', 'Coimbatore, Tamil Nadu, India',\n",
       "       'Worli, Maharashtra, India', 'Alleppey, Kerala, India',\n",
       "       'Chandigarh, Chandigarh, India', 'Guindy, Tamil Nadu, India',\n",
       "       'Lucknow, Uttar Pradesh, India', nan, 'Mumbai', 'Chennai',\n",
       "       'Telangana', 'Pune', 'Bangalore', 'Noida', 'Delhi', 'Ahmedabad',\n",
       "       'Gurugram', 'Haryana', 'Chandigarh', 'Jaipur', 'New Delhi',\n",
       "       'Surat', 'Uttar pradesh', 'Hyderabad', 'Rajasthan', 'Indore',\n",
       "       'Gurgaon', 'Belgaum', 'Andheri', 'Kolkata',\n",
       "       'Tirunelveli, Tamilnadu', 'Thane', 'Singapore', 'Gujarat',\n",
       "       'Kerala', 'Jodhpur', 'Jaipur, Rajastan',\n",
       "       'Frisco, Texas, United States', 'California', 'Dhingsara, Haryana',\n",
       "       'New York, United States', 'Patna',\n",
       "       'San Francisco, California, United States',\n",
       "       'San Francisco, United States', 'San Ramon, California',\n",
       "       'Paris, Ile-de-France, France', 'Plano, Texas, United States',\n",
       "       'Sydney', 'San Francisco Bay Area, Silicon Valley, West Coast',\n",
       "       'Bangaldesh', 'London, England, United Kingdom',\n",
       "       'Sydney, New South Wales, Australia', 'Milano, Lombardia, Italy',\n",
       "       'Palmwoods, Queensland, Australia', 'France',\n",
       "       'San Francisco Bay Area, West Coast, Western US', 'Cochin',\n",
       "       'Samastipur, Bihar', 'Irvine, California, United States',\n",
       "       'Tumkur, Karnataka',\n",
       "       'Newcastle Upon Tyne, Newcastle upon Tyne, United Kingdom',\n",
       "       'Shanghai, China', 'Jiaxing, Zhejiang, China', 'Rajastan', 'Kochi',\n",
       "       'Ludhiana', 'Dehradun', 'San Franciscao', 'San Francisco',\n",
       "       'Tangerang, Jawa Barat, Indonesia', 'Berlin', 'Seattle', 'Riyadh',\n",
       "       'Seoul', 'New York', 'Bangkok', 'Kanpur', 'Warangal', 'Hyderebad',\n",
       "       'Odisha', 'Bihar', 'Goa', 'Tamil Nadu', 'Uttar Pradesh', 'Bhopal',\n",
       "       'Banglore', 'Coimbatore', 'Bengaluru', 'Ahmadabad',\n",
       "       'Small Towns, Andhra Pradesh', 'Rajsamand', 'Ranchi',\n",
       "       'Faridabad, Haryana', 'Computer Games', 'Vadodara',\n",
       "       'Food & Beverages', 'Pharmaceuticals\\t#REF!', 'Gurugram\\t#REF!',\n",
       "       'Mohali', 'Powai', 'Ghaziabad', 'Nagpur', 'West Bengal',\n",
       "       'Samsitpur', 'Lucknow', 'Silvassa', 'Thiruvananthapuram',\n",
       "       'Faridabad', 'Roorkee', 'Ambernath', 'Panchkula', 'Mangalore',\n",
       "       'Telugana', 'Bhubaneswar', 'Kottayam', 'Beijing', 'Panaji',\n",
       "       'Satara', 'Orissia', 'Santra', 'Mountain View, CA', 'Trivandrum',\n",
       "       'Jharkhand', 'Bhilwara', 'Guwahati', 'Online Media\\t#REF!',\n",
       "       'London', 'Information Technology & Services', 'The Nilgiris',\n",
       "       'Gandhinagar'], dtype=object)"
      ]
     },
     "execution_count": 30,
     "metadata": {},
     "output_type": "execute_result"
    }
   ],
   "source": [
    "data['HeadQuarter'].unique()"
   ]
  },
  {
   "cell_type": "code",
   "execution_count": 31,
   "metadata": {},
   "outputs": [
    {
     "name": "stdout",
     "output_type": "stream",
     "text": [
      "Total nan values in the heaquaters column is 114\n",
      "This is 3.99% of the heaquaters data\n"
     ]
    }
   ],
   "source": [
    "data['HeadQuarter'] = data['HeadQuarter'].apply(str)\n",
    "data['HeadQuarter'].str.lower()\n",
    "\n",
    "null_headquaters = data[data['HeadQuarter'] == 'nan']\n",
    "null_count = null_headquaters.shape[0]\n",
    "null_percentage = (null_count/data.shape[0]) * 100\n",
    "\n",
    "print(f'Total nan values in the heaquaters column is {null_count}')\n",
    "print(f'This is {null_percentage:.2f}% of the heaquaters data')"
   ]
  },
  {
   "attachments": {},
   "cell_type": "markdown",
   "metadata": {},
   "source": [
    "Now I will convert the nan string to something like 'Headquaters unknown'. "
   ]
  },
  {
   "cell_type": "code",
   "execution_count": 32,
   "metadata": {},
   "outputs": [],
   "source": [
    "filter1 = data['HeadQuarter'] == 'nan'\n",
    "\n",
    "data.loc[filter1, 'HeadQuarter'] = 'Headquaters unknown'"
   ]
  },
  {
   "cell_type": "code",
   "execution_count": 33,
   "metadata": {},
   "outputs": [
    {
     "data": {
      "text/html": [
       "<div>\n",
       "<style scoped>\n",
       "    .dataframe tbody tr th:only-of-type {\n",
       "        vertical-align: middle;\n",
       "    }\n",
       "\n",
       "    .dataframe tbody tr th {\n",
       "        vertical-align: top;\n",
       "    }\n",
       "\n",
       "    .dataframe thead th {\n",
       "        text-align: right;\n",
       "    }\n",
       "</style>\n",
       "<table border=\"1\" class=\"dataframe\">\n",
       "  <thead>\n",
       "    <tr style=\"text-align: right;\">\n",
       "      <th></th>\n",
       "      <th>Company/Brand</th>\n",
       "      <th>Sector</th>\n",
       "      <th>Stage</th>\n",
       "      <th>Amount($)</th>\n",
       "      <th>HeadQuarter</th>\n",
       "      <th>What it does</th>\n",
       "      <th>Founders</th>\n",
       "      <th>Investor</th>\n",
       "      <th>Year</th>\n",
       "    </tr>\n",
       "  </thead>\n",
       "  <tbody>\n",
       "    <tr>\n",
       "      <th>0</th>\n",
       "      <td>TheCollegeFever</td>\n",
       "      <td>Brand Marketing, Event Promotion, Marketing, S...</td>\n",
       "      <td>Seed</td>\n",
       "      <td>250000.0</td>\n",
       "      <td>Bangalore</td>\n",
       "      <td>TheCollegeFever is a hub for fun, fiesta and f...</td>\n",
       "      <td>NaN</td>\n",
       "      <td>NaN</td>\n",
       "      <td>2018</td>\n",
       "    </tr>\n",
       "    <tr>\n",
       "      <th>1</th>\n",
       "      <td>Happy Cow Dairy</td>\n",
       "      <td>Agriculture, Farming</td>\n",
       "      <td>Seed</td>\n",
       "      <td>584000.0</td>\n",
       "      <td>Mumbai</td>\n",
       "      <td>A startup which aggregates milk from dairy far...</td>\n",
       "      <td>NaN</td>\n",
       "      <td>NaN</td>\n",
       "      <td>2018</td>\n",
       "    </tr>\n",
       "    <tr>\n",
       "      <th>2</th>\n",
       "      <td>MyLoanCare</td>\n",
       "      <td>Credit, Financial Services, Lending, Marketplace</td>\n",
       "      <td>Series A</td>\n",
       "      <td>949000.0</td>\n",
       "      <td>Gurgaon</td>\n",
       "      <td>Leading Online Loans Marketplace in India</td>\n",
       "      <td>NaN</td>\n",
       "      <td>NaN</td>\n",
       "      <td>2018</td>\n",
       "    </tr>\n",
       "    <tr>\n",
       "      <th>3</th>\n",
       "      <td>PayMe India</td>\n",
       "      <td>Financial Services, FinTech</td>\n",
       "      <td>Angel</td>\n",
       "      <td>2000000.0</td>\n",
       "      <td>Noida</td>\n",
       "      <td>PayMe India is an innovative FinTech organizat...</td>\n",
       "      <td>NaN</td>\n",
       "      <td>NaN</td>\n",
       "      <td>2018</td>\n",
       "    </tr>\n",
       "    <tr>\n",
       "      <th>4</th>\n",
       "      <td>Eunimart</td>\n",
       "      <td>E-Commerce Platforms, Retail, SaaS</td>\n",
       "      <td>Seed</td>\n",
       "      <td>0.0</td>\n",
       "      <td>Hyderabad</td>\n",
       "      <td>Eunimart is a one stop solution for merchants ...</td>\n",
       "      <td>NaN</td>\n",
       "      <td>NaN</td>\n",
       "      <td>2018</td>\n",
       "    </tr>\n",
       "  </tbody>\n",
       "</table>\n",
       "</div>"
      ],
      "text/plain": [
       "     Company/Brand                                             Sector  \\\n",
       "0  TheCollegeFever  Brand Marketing, Event Promotion, Marketing, S...   \n",
       "1  Happy Cow Dairy                               Agriculture, Farming   \n",
       "2       MyLoanCare   Credit, Financial Services, Lending, Marketplace   \n",
       "3      PayMe India                        Financial Services, FinTech   \n",
       "4         Eunimart                 E-Commerce Platforms, Retail, SaaS   \n",
       "\n",
       "      Stage  Amount($) HeadQuarter  \\\n",
       "0      Seed   250000.0   Bangalore   \n",
       "1      Seed   584000.0      Mumbai   \n",
       "2  Series A   949000.0     Gurgaon   \n",
       "3     Angel  2000000.0       Noida   \n",
       "4      Seed        0.0   Hyderabad   \n",
       "\n",
       "                                        What it does Founders Investor  Year  \n",
       "0  TheCollegeFever is a hub for fun, fiesta and f...      NaN      NaN  2018  \n",
       "1  A startup which aggregates milk from dairy far...      NaN      NaN  2018  \n",
       "2          Leading Online Loans Marketplace in India      NaN      NaN  2018  \n",
       "3  PayMe India is an innovative FinTech organizat...      NaN      NaN  2018  \n",
       "4  Eunimart is a one stop solution for merchants ...      NaN      NaN  2018  "
      ]
     },
     "execution_count": 33,
     "metadata": {},
     "output_type": "execute_result"
    }
   ],
   "source": [
    "def remove_excess_headquaters(string):\n",
    "    new = []\n",
    "    for letter in string:\n",
    "        new += letter\n",
    "    if ',' in new:\n",
    "        comma_index = new.index(',')\n",
    "        del new[comma_index:len(string)]\n",
    "    elif '#' in new:\n",
    "        hash_index = new.index('#')\n",
    "        del new[hash_index -2:len(string)]\n",
    "    headquaters = ''.join(new)\n",
    "    return headquaters\n",
    "    \n",
    "data['HeadQuarter'] = data['HeadQuarter'].apply(remove_excess_headquaters)\n",
    "data.head()"
   ]
  },
  {
   "cell_type": "code",
   "execution_count": 34,
   "metadata": {},
   "outputs": [
    {
     "data": {
      "text/plain": [
       "Company/Brand      0\n",
       "Sector            18\n",
       "Stage            929\n",
       "Amount($)          8\n",
       "HeadQuarter        0\n",
       "What it does       0\n",
       "Founders         544\n",
       "Investor         624\n",
       "Year               0\n",
       "dtype: int64"
      ]
     },
     "execution_count": 34,
     "metadata": {},
     "output_type": "execute_result"
    }
   ],
   "source": [
    "data.isna().sum()"
   ]
  },
  {
   "attachments": {},
   "cell_type": "markdown",
   "metadata": {},
   "source": [
    "### Clean up the Sector column\n",
    "\n",
    "My Goal\n",
    "\n",
    "1. Create a function that adds specific keywords or expression into my predefined list\n",
    "\n",
    "Goals \n",
    "1. There are nan and '-' that should be handled first. \n",
    "2. The goal is to replace those values with what the company does, this way we have some keywords to use to gauge what sector the company is in\n",
    "3. Changing industries that are just have consumer to 'Business Consumer upon further investigation(regex prurpose)\n",
    "\n",
    "\n",
    "\n",
    "##### Lets first visualize the Sector column"
   ]
  },
  {
   "cell_type": "code",
   "execution_count": 35,
   "metadata": {},
   "outputs": [
    {
     "data": {
      "text/plain": [
       "array(['Brand Marketing, Event Promotion, Marketing, Sponsorship, Ticketing',\n",
       "       'Agriculture, Farming',\n",
       "       'Credit, Financial Services, Lending, Marketplace',\n",
       "       'Financial Services, FinTech',\n",
       "       'E-Commerce Platforms, Retail, SaaS',\n",
       "       'Cloud Infrastructure, PaaS, SaaS',\n",
       "       'Internet, Leisure, Marketplace', 'Market Research',\n",
       "       'Information Services, Information Technology', 'Mobile Payments',\n",
       "       'B2B, Shoes', 'Internet',\n",
       "       'Apps, Collaboration, Developer Platform, Enterprise Software, Messaging, Productivity Tools, Video Chat',\n",
       "       'Food Delivery', 'Industrial Automation',\n",
       "       'Automotive, Search Engine, Service Industry',\n",
       "       'Finance, Internet, Travel',\n",
       "       'Accounting, Business Information Systems, Business Travel, Finance, SaaS',\n",
       "       'Artificial Intelligence, Product Search, SaaS, Service Industry, Software',\n",
       "       'Internet of Things, Waste Management',\n",
       "       'Air Transportation, Freight Service, Logistics, Marine Transportation',\n",
       "       'Financial Services', 'Food and Beverage', 'Autonomous Vehicles',\n",
       "       'Enterprise Software, Health Care, Hospital, Parenting, Personal Health, SaaS',\n",
       "       'Agriculture, Analytics, Big Data, Farming',\n",
       "       'Logistics, Supply Chain Management',\n",
       "       'Financial Services, Lending',\n",
       "       'Automotive, Marketplace, Online Portals',\n",
       "       'Artificial Intelligence',\n",
       "       'Internet of Things, Telecommunications', 'Insurance',\n",
       "       'Information Technology, Logistics, Supply Chain Management',\n",
       "       'Blockchain, Developer Tools, Enterprise Software',\n",
       "       'Industrial Automation, Logistics, Supply Chain Management',\n",
       "       'Food and Beverage, Food Delivery, Snack Food', 'Education',\n",
       "       'E-Commerce, Fashion, Jewelry, Retail', 'Renewable Energy',\n",
       "       'E-Learning, Education',\n",
       "       'Clean Energy, CleanTech, Laundry and Dry-cleaning',\n",
       "       'E-Commerce, Fashion, Mobile',\n",
       "       'Apps, Messaging, Navigation, Public Safety', 'Transportation',\n",
       "       'Fitness, Health Care, Wellness',\n",
       "       'Artificial Intelligence, Machine Learning, SaaS, Virtual Assistant',\n",
       "       'Hospitality', 'Food and Beverage, Tea',\n",
       "       'Media and Entertainment, News, Outdoors',\n",
       "       'Broadcasting, Media and Entertainment, Music, Music Streaming, Video, Video Streaming',\n",
       "       'B2B, Information Services, Information Technology',\n",
       "       'EdTech, Education, Enterprise Software, Peer to Peer',\n",
       "       'Health Care, Medical', 'E-Commerce',\n",
       "       'Health Care, Hospital, Wellness', '—', 'Sports',\n",
       "       'Big Data, Consumer Lending, FinTech',\n",
       "       'Cloud Computing, Computer, Semiconductor',\n",
       "       'Health Care, Medical, Pharmaceutical', 'Food Processing, Retail',\n",
       "       'Trading Platform', \"Consumer Goods, Lifestyle, Men's\", 'Wellness',\n",
       "       'Food and Beverage, Food Processing, Nutrition', 'Fashion',\n",
       "       'Automotive, Electric Vehicle, Energy Storage',\n",
       "       'Consulting, Retail, Social',\n",
       "       'Biotechnology, Life Science, Pharmaceutical, Product Research',\n",
       "       'Health Care',\n",
       "       'Credit, Financial Services, FinTech, Personal Finance',\n",
       "       'Communities, Coworking, Incubators',\n",
       "       'Consumer, Financial Services, FinTech',\n",
       "       'Consumer Applications, Information Services, Location Based Services, Virtual Assistant',\n",
       "       'Mobile, Mobile Apps, Personalization, Test and Measurement, Web Apps',\n",
       "       'Education, Financial Services, FinTech',\n",
       "       'Advertising, Consulting, Digital Marketing',\n",
       "       'Marketplace, Real Estate, Rental Property',\n",
       "       'E-Learning, Internet, Video Games',\n",
       "       'Artificial Intelligence, Cloud Computing, Video',\n",
       "       'Health Care, Information Technology', 'Aerospace',\n",
       "       'E-Commerce, Fashion, Lifestyle',\n",
       "       'Artificial Intelligence, Business Intelligence, Industrial Automation, Machine Learning',\n",
       "       'Home Decor, Home Improvement, Home Renovation, Home Services, Interior Design, Smart Home',\n",
       "       'EdTech, Education, Information Services, SaaS', 'Energy, Solar',\n",
       "       'B2B, Biometrics, Cyber Security, Fraud Detection, SaaS, Security',\n",
       "       'Artificial Intelligence, Social',\n",
       "       'Logistics, Transportation, Travel',\n",
       "       'Digital Marketing, SEM, SEO, Web Development',\n",
       "       'Health Care, Hospital, Medical', 'Finance, Financial Services',\n",
       "       'Food Delivery, Food Processing, Internet',\n",
       "       'E-Commerce, Food and Beverage, Internet',\n",
       "       'Fitness, Food and Beverage, Health Care, Nutrition',\n",
       "       'EdTech, Education, Knowledge Management',\n",
       "       'Apps, Beauty, Consumer, Retail',\n",
       "       'Creative Agency, Crowdfunding, EdTech, Health Care, Internet, Medical, Non Profit, Personal Health',\n",
       "       'Consumer Lending, Financial Services, FinTech, Insurance, Lending, Mobile Payments, Payments, Wealth Management',\n",
       "       'E-Learning, Education, Higher Education', 'Health Diagnostics',\n",
       "       'EdTech, Education', 'Financial Services, SaaS, Security',\n",
       "       'Banking, Finance, Financial Services, Non Profit',\n",
       "       'B2B, E-Commerce, Mobile',\n",
       "       'Automotive, Electric Vehicle, Renewable Energy', 'E-Learning',\n",
       "       'Embedded Systems, Health Care, Medical, Product Research',\n",
       "       'Apps, E-Commerce, Internet',\n",
       "       'Advertising, Human Resources, Marketing',\n",
       "       'Beauty, Fitness, Home Services, Internet',\n",
       "       'Health Care, Medical Device, Public Safety',\n",
       "       'Food Delivery, Online Portals, Restaurants',\n",
       "       'AgTech, B2B, Supply Chain Management',\n",
       "       'Credit Cards, Finance, Mobile Apps, Mobile Payments, Payments',\n",
       "       'Software',\n",
       "       'EdTech, Education, Higher Education, Secondary Education',\n",
       "       'Manufacturing, Retail', 'Manufacturing',\n",
       "       'Information Services, Information Technology, InsurTech',\n",
       "       'Consumer Lending, FinTech', 'Internet, Social Network, TV',\n",
       "       'Beauty, Health Care', 'Hospital', 'Events',\n",
       "       '3D Printing, Manufacturing, Product Design', 'Automotive',\n",
       "       'Automotive, Retail', 'Apps, Audio', 'Automotive, E-Commerce',\n",
       "       'Digital Entertainment, Fantasy Sports, Sports',\n",
       "       'E-Learning, EdTech, Education',\n",
       "       'Funding Platform, Incubators, Non Profit',\n",
       "       'Hospitality, Hotel, Leisure, Travel',\n",
       "       'Classifieds, Internet, Marketplace, Rental Property',\n",
       "       'Banking, E-Learning, Trading Platform',\n",
       "       'E-Commerce, Mobile, Retail',\n",
       "       'Artificial Intelligence, Information Technology',\n",
       "       'Enterprise Resource Planning (ERP), Information Services, Information Technology, Real Estate',\n",
       "       'Banking, Finance, Financial Services',\n",
       "       'Audio, Mobile, Tourism, Travel',\n",
       "       'Energy, Energy Storage, Infrastructure',\n",
       "       'Government, Information Technology, Software',\n",
       "       'Information Technology',\n",
       "       'Education, Information Technology, Internet, Mobile, Software',\n",
       "       'Consumer Lending, Financial Services, Lending, Personal Finance',\n",
       "       'Digital Media, Internet, Media and Entertainment, Online Portals, Social Media',\n",
       "       'Business Intelligence, Customer Service, Market Research, SaaS',\n",
       "       'Credit, Financial Services, FinTech, Lending',\n",
       "       'Children, Education, Parenting',\n",
       "       'Automotive, Battery, Energy, Energy Storage',\n",
       "       'E-Commerce, Mobile, Sharing Economy',\n",
       "       'Food Delivery, Organic, Organic Food', 'Mobile', 'Rental',\n",
       "       'Travel', 'Consumer', 'B2B, Farming, Marketplace',\n",
       "       'Wealth Management', 'Biotechnology',\n",
       "       'Education, Gaming, Training', 'Veterinary',\n",
       "       'Internet, Mobile, Social Entrepreneurship, Telecommunications, Wireless',\n",
       "       'Health Care, Hospital, Supply Chain Management',\n",
       "       'Tourism, Travel', 'Hospitality, Real Estate', 'Finance',\n",
       "       'Digital Media, EBooks, Publishing, Reading Apps',\n",
       "       'Consumer Electronics, Embedded Systems, Hardware, Smart Building, Software',\n",
       "       'Food and Beverage, Food Processing',\n",
       "       'Internet, Marketplace, Shopping',\n",
       "       'Analytics, Computer Vision, Enterprise Software, Machine Learning, Natural Language Processing, Speech Recognition',\n",
       "       'Facilities Support Services',\n",
       "       'Automotive, Electric Vehicle, Energy',\n",
       "       'Health Care, Health Diagnostics, Predictive Analytics',\n",
       "       'Cloud Computing, Computer, SaaS, Software',\n",
       "       'Fashion, Lifestyle, Retail', 'Medical', 'Music Streaming',\n",
       "       'Finance, Impact Investing, Internet',\n",
       "       'Internet, Social Entrepreneurship', 'Retail',\n",
       "       'Finance, Impact Investing, Mobile Apps',\n",
       "       'Cloud Computing, Computer, Software',\n",
       "       'Business Development, Market Research, Outsourcing',\n",
       "       'Health Care, Hospitality', 'Internet, Social News, Sports',\n",
       "       'Human Resources', 'Finance, Financial Services, FinTech',\n",
       "       'Customer Service, Software, Video, Video Streaming',\n",
       "       'E-Commerce, Food Processing', 'Training',\n",
       "       'Dietary Supplements, Food and Beverage, Health Care, Organic Food, Snack Food',\n",
       "       'Manufacturing, Oil and Gas, Robotics',\n",
       "       'Artificial Intelligence, Computer, Machine Learning',\n",
       "       'Collaboration, Communities, Coworking, Sharing Economy',\n",
       "       'Big Data, EdTech, Machine Learning', 'Nanotechnology',\n",
       "       'Analytics, Audio, Digital Media, Innovation Management, Internet Radio, Media and Entertainment',\n",
       "       'Financial Services, Lending, Peer to Peer',\n",
       "       'E-Commerce, Furniture, Home Decor, Interior Design, Internet',\n",
       "       'Digital Media', 'File Sharing, Personalization, Social Media',\n",
       "       'Home Decor, Interior Design',\n",
       "       'Health Care, Medical Device, Mobile Apps',\n",
       "       'E-Commerce, Facilities Support Services, Procurement, Supply Chain Management',\n",
       "       'Crowdfunding, Finance, Financial Services',\n",
       "       'Finance, Financial Services, Insurance',\n",
       "       'Children, Education, Online Portals', 'Software, Virtual Reality',\n",
       "       'B2B, Food and Beverage, Food Delivery',\n",
       "       'Catering, Food and Beverage, Food Delivery, Food Processing',\n",
       "       'Food and Beverage, Snack Food', 'Automotive, E-Commerce, Mobile',\n",
       "       'Computer, Digital Marketing, Facilities Support Services, Graphic Design, Internet, Mobile Apps, Social Media Marketing, Web Development',\n",
       "       'Android, Big Data, Blockchain, Cloud Computing, EdTech, Education, Information Technology, iOS, Training, Web Development',\n",
       "       'Analytics, CRM, Loyalty Programs, Machine Learning, Marketing Automation, Retail Technology, SaaS, Small and Medium Businesses',\n",
       "       'Delivery, Information Technology, Mobile Apps',\n",
       "       'Environmental Consulting, Renewable Energy',\n",
       "       'Big Data, Business Intelligence, Financial Services, FinTech, Personal Finance',\n",
       "       'Commercial Real Estate, Coworking, Office Administration, Real Estate',\n",
       "       'Food and Beverage, Food Processing, Organic Food, Snack Food',\n",
       "       'Apps, Health Care, Internet, Mobile Apps, Personal Health',\n",
       "       'Digital Media, Incubators, Social Entrepreneurship',\n",
       "       'Finance, Financial Services, Marketing',\n",
       "       'Biotechnology, Health Care, Life Science, Medical Device',\n",
       "       'Education, Human Resources', 'Consumer Electronics',\n",
       "       'Apps, Health Care, Hospital, Mobile Apps',\n",
       "       'Delivery Service, Logistics, Service Industry',\n",
       "       'Big Data, Data Visualization, Logistics, Software',\n",
       "       'Basketball, Cricket, Cycling, eSports, Fitness, Golf, Health Care, Hockey, Sports, Swimming, Table Tennis, Volley Ball',\n",
       "       'Media and Entertainment, News, Publishing', 'Consulting',\n",
       "       'Big Data, Financial Services, Machine Learning, Predictive Analytics',\n",
       "       'Agriculture, AgTech, Manufacturing',\n",
       "       'Digital Media, News, Publishing', 'Health Care, Hospital',\n",
       "       'B2B, E-Commerce, Enterprise',\n",
       "       'Fraud Detection, Information Services, Security',\n",
       "       'Agriculture, AgTech, Artificial Intelligence, Internet of Things, Machine Learning',\n",
       "       'Cryptocurrency, Trading Platform',\n",
       "       'Finance, FinTech, Mobile Payments', 'Wedding',\n",
       "       'E-Learning, EdTech, Education, Image Recognition, Machine Learning, STEM Education',\n",
       "       'Consumer Goods', 'Digital Entertainment',\n",
       "       'Crowdsourcing, Financial Services, Funding Platform, Venture Capital',\n",
       "       'Delivery, Drones, Geospatial, Robotics',\n",
       "       'Health Care, Information Technology, Management Information Systems',\n",
       "       'Farming',\n",
       "       'Business Travel, Hospitality, Hotel, Marketplace, Tourism, Travel Accommodations',\n",
       "       'Career Planning, Education, Higher Education, Service Industry',\n",
       "       'Medical Device', 'Alternative Medicine, Health Care',\n",
       "       'Internet, Software',\n",
       "       'Dental, Elder Care, Health Care, Home Health Care, Personal Health',\n",
       "       'Financial Services, Insurance, Private Social Networking',\n",
       "       'Consumer Electronics, E-Commerce, E-Commerce Platforms, Electronics, Shipping, Shopping',\n",
       "       'CleanTech', 'Advertising, Internet, Marketing',\n",
       "       'Human Resources, Security, Training',\n",
       "       'Consumer Lending, Finance, FinTech',\n",
       "       'Marketing, Social Media, Video', 'Banking', 'Food Processing',\n",
       "       'Apps', 'Marketing',\n",
       "       'Apps, B2B, Freight Service, Logistics, SaaS, Shipping, Supply Chain Management, Transportation',\n",
       "       'Digital Entertainment, Fantasy Sports, Gaming, Sports',\n",
       "       'Automotive, Last Mile Transportation, Peer to Peer, Ride Sharing',\n",
       "       'Commercial, E-Learning, Education',\n",
       "       'Continuing Education, EdTech, Education, Skill Assessment',\n",
       "       'Smart Cities, Telecommunications', 'Internet of Things, Robotics',\n",
       "       'Apps, Home Services, Information Services, Information Technology',\n",
       "       'Medical, Tourism', 'Career Planning, Education, Internet',\n",
       "       'Fashion, Graphic Design, Wearables',\n",
       "       'Communities, Leisure, Mobile Apps, Software',\n",
       "       'Automotive, Rental, Sharing Economy',\n",
       "       'Energy, Environmental Consulting, Renewable Energy, Solar',\n",
       "       'Information Technology, SaaS, Security',\n",
       "       'Crowdfunding, Financial Services, Internet',\n",
       "       'Customer Service, Information Technology, Internet, Sales Automation',\n",
       "       'Advertising, Artificial Intelligence, Digital Media, iOS, Location Based Services, News, Video, Video on Demand, Video Streaming',\n",
       "       'Credit Cards, Payments, Property Insurance, Property Management, Rental Property',\n",
       "       'Beauty, Cosmetics, Health Care, Service Industry',\n",
       "       'EdTech, Education, Mobile, Tutoring', 'Social Media, Sports',\n",
       "       'Biopharma', 'E-Commerce, E-Commerce Platforms, Retail',\n",
       "       'E-Commerce, Fashion, Shopping',\n",
       "       'Digital Entertainment, Mobile, PC Games',\n",
       "       'Finance, Financial Services, Small and Medium Businesses',\n",
       "       'Artificial Intelligence, Energy, Oil and Gas',\n",
       "       'Computer, FinTech, Risk Management, Software',\n",
       "       'Apps, Financial Services, FinTech',\n",
       "       \"Child Care, Health Care, Hospital, Medical, Women's\",\n",
       "       'Agriculture, Mobile',\n",
       "       'Finance, FinTech, Payments, Property Development, Rental',\n",
       "       'Information Services, Information Technology, Mobile, Software',\n",
       "       'Apps, Fitness, Health Care, mHealth',\n",
       "       'Food and Beverage, Food Delivery', 'Apps, Payments, Retail',\n",
       "       'Health Insurance, Insurance, Life Insurance',\n",
       "       'Rental, Taxi Service, Travel',\n",
       "       'E-Commerce, E-Commerce Platforms, Internet, Retail',\n",
       "       'Financial Services, Professional Services',\n",
       "       'Customer Service, Messaging, Mobile Apps, Personalization',\n",
       "       'Gaming, iOS, Sports',\n",
       "       'E-Commerce, E-Commerce Platforms, Internet, Mobile Apps, Social Media',\n",
       "       'Search Engine',\n",
       "       'Battery, Electric Vehicle, Energy, Renewable Energy, Transportation',\n",
       "       'Agriculture, Farmers Market, Farming',\n",
       "       'Artificial Intelligence, Drones, Navigation, Packaging Services, Robotics',\n",
       "       'Fitness, GreenTech, Internet of Things, Mobile Apps, Ride Sharing, Transportation',\n",
       "       'Mobile, Software, Travel', 'Cosmetics',\n",
       "       'Consulting, Cyber Security, Network Security',\n",
       "       'eSports, Gaming, Video Games', 'Fashion, Jewelry',\n",
       "       'B2B, Medical Device', 'Consumer Goods, Manufacturing',\n",
       "       'Biotechnology, Health Care, Wellness',\n",
       "       'Health Care, Hospital, Medical, Robotics',\n",
       "       'E-Commerce, Fitness, Health Care',\n",
       "       'Financial Services, Venture Capital', 'Accounting, Apps, FinTech',\n",
       "       'Apps, Mobile, Transportation', 'Reading Apps',\n",
       "       'Energy, Renewable Energy, Solar',\n",
       "       'Banking, Financial Services, FinTech', 'Apps, Education, Retail',\n",
       "       'Electric Vehicle',\n",
       "       'Automotive, Battery, Electric Vehicle, Manufacturing, Mechanical Design',\n",
       "       'Automotive, E-Commerce, Marketplace', 'Agriculture',\n",
       "       'Apps, Information Services, Information Technology',\n",
       "       'B2B, Marketplace', 'Packaging Services',\n",
       "       'Computer, Furniture, Software',\n",
       "       'Food Delivery, Hospitality, Reservations, Restaurants, Search Engine',\n",
       "       'Collaboration, Communities, Coworking, Real Estate',\n",
       "       'Accounting, Banking, Finance',\n",
       "       'Cloud Computing, Enterprise Software, Network Hardware, Network Security, SaaS',\n",
       "       'Information Services, Internet, Logistics, Supply Chain Management, Transportation',\n",
       "       'Automotive, E-Commerce, Information Services',\n",
       "       'Delivery, Logistics, Transportation',\n",
       "       'Automotive, E-Commerce Platforms, Marketplace',\n",
       "       'Last Mile Transportation, Railroad, Transportation, Travel',\n",
       "       'Cooking, E-Commerce, Food and Beverage, Food Delivery, Online Portals',\n",
       "       'FinTech, Mobile, Mobile Payments, Payments, Retail Technology',\n",
       "       'Online Games, Software',\n",
       "       'Online Portals, Property Management, Rental',\n",
       "       'E-Commerce, Food and Beverage, Tea',\n",
       "       'Music, Social Network, Video',\n",
       "       'Health Care, Pharmaceutical, Wellness',\n",
       "       'Delivery Service, Food and Beverage, Food Delivery',\n",
       "       'Hospitality, Information Technology, Travel Accommodations',\n",
       "       'Biotechnology, Diabetes, Health Care',\n",
       "       'Autonomous Vehicles, Last Mile Transportation, Recreational Vehicles, Rental',\n",
       "       'Finance, Financial Exchanges, Financial Services, Micro Lending',\n",
       "       'Analytics, Apps, Market Research',\n",
       "       'E-Commerce, E-Commerce Platforms, Furniture, Home Decor, Internet',\n",
       "       'Apps, Mobile, Mobile Apps, Software',\n",
       "       'News, Publishing, Social Media',\n",
       "       'Industrial, Industrial Automation',\n",
       "       'Internet, Mobile Apps, Social Network',\n",
       "       'Health Care, Health Diagnostics, Internet of Things, Life Science, Machine Learning, Medical, Medical Device',\n",
       "       'E-Commerce, Furniture, Interior Design', 'Apps, Events, News',\n",
       "       'Artificial Intelligence, Human Resources, Information Services, Information Technology',\n",
       "       'Logistics, Railroad, Transportation',\n",
       "       'Dating, Private Social Networking',\n",
       "       'Artificial Intelligence, Machine Learning, PaaS',\n",
       "       'Consumer, Furniture, Home Decor, Home Improvement',\n",
       "       'Apps, E-Commerce, Internet, Mobile, Ride Sharing, Transportation',\n",
       "       'Health Care, Health Insurance', 'Energy, Natural Resources',\n",
       "       'E-Commerce, Education, Health Care',\n",
       "       'Apps, Health Care, Pharmaceutical',\n",
       "       'Internet, Knowledge Management',\n",
       "       'Credit, Finance, FinTech, Lending, Sales Automation',\n",
       "       'Banking, Financial Services, Internet',\n",
       "       'E-Commerce, Health Care, Retail',\n",
       "       'Child Care, Information Technology',\n",
       "       'Financial Services, Micro Lending',\n",
       "       'E-Commerce, Retail, Shopping',\n",
       "       'Food and Beverage, Snack Food, Tea',\n",
       "       'Delivery Service, E-Commerce, Logistics',\n",
       "       'Fashion, Lifestyle, Rental', 'Fantasy Sports, Mobile, Sports',\n",
       "       'Beauty, Fashion, Wellness', 'Food and Beverage, Restaurants, Tea',\n",
       "       'Fitness, Sporting Goods, Sports',\n",
       "       'Food and Beverage, Food Processing, Manufacturing',\n",
       "       'E-Learning, Internet', 'Eyewear, Internet',\n",
       "       'Information Technology, Mobile, News, Operating Systems, Social Media, Social News',\n",
       "       'FinTech, Internet, Payments, Service Industry',\n",
       "       'B2B, Business Development, Internet, Marketplace',\n",
       "       'Food and Beverage, Food Delivery, Internet',\n",
       "       'Biotechnology, Health Care, Pharmaceutical', 'Ecommerce',\n",
       "       'Edtech', 'Interior design', 'AgriTech', 'Technology', 'SaaS',\n",
       "       'AI & Tech', 'E-commerce', 'E-commerce & AR', 'Fintech', 'HR tech',\n",
       "       'Food tech', 'Health', 'Healthcare', 'Safety tech',\n",
       "       'Pharmaceutical', 'Insurance technology', 'AI', 'Foodtech', 'Food',\n",
       "       'IoT', 'E-marketplace', 'Robotics & AI', 'Logistics',\n",
       "       'Food & Nutrition', 'Social Media', nan, 'E-Sports', 'B2B',\n",
       "       'Jewellery', 'B2B Supply Chain', 'Games', 'Food & tech',\n",
       "       'Accomodation', 'Automotive tech', 'Legal tech', 'Mutual Funds',\n",
       "       'Cybersecurity', 'Automobile', 'Healthtech', 'Yoga & wellness',\n",
       "       'Virtual Banking', 'Transport & Rentals',\n",
       "       'Marketing & Customer loyalty', 'Infratech',\n",
       "       'Automobile & Technology', 'EdTech', 'Hygiene management',\n",
       "       'Escrow', 'Networking platform', 'FinTech', 'Crowdsourcing',\n",
       "       'Food & Bevarages', 'HealthTech', 'Fashion startup',\n",
       "       'Food Industry', 'Virtual auditing startup', 'Gaming',\n",
       "       'Work fulfillment', 'AI startup', 'Telecommunication',\n",
       "       'Tech Startup', 'Medtech', 'Tyre management', 'Cloud company',\n",
       "       'Software company', 'Venture capitalist', 'Renewable player',\n",
       "       'IoT startup', 'SaaS startup', 'Aero company', 'Marketing company',\n",
       "       'Retail startup', 'Co-working Startup', 'Finance company',\n",
       "       'Tech company', 'Solar Monitoring Company',\n",
       "       'Video sharing platform', 'Gaming startup',\n",
       "       'Video streaming platform', 'Consumer appliances',\n",
       "       'Blockchain startup', 'Conversational AI platform', 'Real Estate',\n",
       "       'SaaS platform', 'AI platform', 'Fusion beverages', 'HR Tech',\n",
       "       'Job portal', 'Dairy startup', 'Content management', 'Spacetech',\n",
       "       'Trading platform', 'AI Company', 'Photonics startup',\n",
       "       'Entertainment', 'Scanning app', 'Skincare startup',\n",
       "       'Food and Beverages', 'Biotechnology company', 'FoodTech',\n",
       "       'Proptech', 'Fitness startup', 'PaaS startup', 'Beverages',\n",
       "       'Automobiles', 'Deeptech', 'EV startup', 'AR/VR startup',\n",
       "       'Recruitment startup', 'QSR startup', 'Video platform',\n",
       "       'Fertility tech', 'Luxury car startup', 'FM', 'Nutrition sector',\n",
       "       'Tech platform', 'Video', 'Retail Tech', 'HeathTech',\n",
       "       'Sles and marketing', 'LegalTech', 'Car Service',\n",
       "       'Bike marketplace', 'Agri tech', 'Reatil startup', 'AR platform',\n",
       "       'Content marketplace', 'Interior Design', 'Rental space',\n",
       "       'Soil-Tech', 'Ayurveda tech', 'Packaging solution startup',\n",
       "       'Cleantech', 'Sanitation solutions', 'HealthCare', 'Home Design',\n",
       "       'InsureTech', 'AI Startup', 'Solar solution', 'Jewellery startup',\n",
       "       'Multinational conglomerate company', 'Deeptech startup',\n",
       "       'Social Network', 'Publication', 'Tech', 'Venture capital',\n",
       "       'Entreprenurship', 'Food devlivery', 'Warehouse',\n",
       "       'Online financial service', 'Eyeglasses', 'Battery design',\n",
       "       'Online credit management startup', 'Beverage', 'TravelTech',\n",
       "       'Startup laboratory', 'Personal care startup',\n",
       "       'Customer service company', 'SaaS\\xa0\\xa0startup',\n",
       "       'Marketing startup', 'Service industry', 'Social media',\n",
       "       'AR startup', 'HR Tech startup', 'Automotive Startup',\n",
       "       'Food Startup', 'EdTech Startup', 'Car Trade', 'EdtTech',\n",
       "       'AI Platform', 'Automation', 'Solar SaaS', 'WL & RAC protection',\n",
       "       'Social commerce', 'Home interior services', 'Agritech startup',\n",
       "       'API platform', 'Deep Tech', 'Electricity', 'Automotive company',\n",
       "       'FMCG', 'Insurance Tech', 'Video personalization',\n",
       "       'Software Company', 'Biomaterial startup', 'IT', 'Craft Beer',\n",
       "       'Investment', 'Linguistic Spiritual', 'Construction',\n",
       "       'Battery manufacturer', 'Nano Distribution Network', 'AI health',\n",
       "       'Dating app', 'Media', 'Healthcare/Edtech', 'Social Commerce',\n",
       "       'Agritech/Commerce', 'Mobility tech', 'Social e-commerce',\n",
       "       'Food & Logistics', 'SpaceTech', 'Nutrition Tech', 'HR',\n",
       "       'Agritech', 'AR/VR', 'Appliance', 'Mental Health',\n",
       "       'Solar Solution', 'B2B marketplace', 'Fashion Tech',\n",
       "       'Nutrition tech', 'Health & Wellness', 'Cloud Kitchen',\n",
       "       'IoT/Automobile', 'Eye Wear', 'Digital tech', 'Data Intelligence',\n",
       "       'Co-living', 'Food & Beverages', 'Defense tech', 'Marketplace',\n",
       "       'Construction tech', 'Nutrition', 'Coworking', 'Micro-mobiity',\n",
       "       'Auto-tech', 'Beauty', 'Robotics', 'Logitech', 'Med Tech',\n",
       "       'Life sciences', 'Retail Aggregator', 'Deep Tech AI', 'Biotech',\n",
       "       'Blockchain', 'HrTech', 'Mobility/Transport', 'AI & Debt',\n",
       "       'SaaS/Edtech', 'Transport', 'Co-working', 'Insurtech',\n",
       "       'Cryptocurrency', 'Legal', 'Fitness', 'EV',\n",
       "       'Supply chain, Agritech', 'Pharma', 'Foodtech & Logistics',\n",
       "       'Housing', 'Data Analytics', 'Investment Tech', 'Dairy',\n",
       "       'Beauty & wellness', 'Travel & SaaS', 'Tourism & EV', 'Media Tech',\n",
       "       'Location Analytics', 'E store', 'Data Science',\n",
       "       'Health and Fitness', 'Interior & decor', 'eMobility',\n",
       "       'Automation tech', 'Media & Networking', 'E-market',\n",
       "       'AI & Data science', 'Travel tech', 'Automotive and Rentals',\n",
       "       'E-tail', 'AI & Media', 'Machine Learning', 'Content Marktplace',\n",
       "       'Visual Media', 'Hygiene', 'VR & SaaS', 'Sales & Services',\n",
       "       'AI & Deep learning', 'Housing & Rentals', 'Estore', 'E tailor',\n",
       "       'E-mobility', 'Ad-tech', 'Neo-banking', 'Transport Automation',\n",
       "       'Techonology', 'AI Robotics', 'Preschool Daycare', 'Food diet',\n",
       "       'B2B Agritech', 'E-connect', 'Tech hub', 'Consultancy', 'Pharmacy',\n",
       "       'Deisgning', 'Taxation', 'Automobile Technology', 'B2B E-commerce',\n",
       "       'Home services', 'B2B service', 'Helathcare', 'Electronics',\n",
       "       'IT startup', 'Aeorspace', 'Dating', 'Oil and Energy',\n",
       "       'Telecommuncation', 'Milk startup', 'AI Chatbot', 'Food delivery',\n",
       "       'Fantasy sports', 'Video communication', 'Skill development',\n",
       "       'Recruitment', 'Computer Games', 'Apparel & Fashion',\n",
       "       'Logistics & Supply Chain', 'SportsTech', 'HRTech',\n",
       "       'Wine & Spirits', 'Mechanical & Industrial Engineering',\n",
       "       'Spiritual', 'Lifestyle', 'Computer software', 'Tech startup',\n",
       "       'Digital mortgage', 'Information Technology & Services',\n",
       "       'Furniture', 'Healtcare', 'Tobacco', 'Insuretech',\n",
       "       'MLOps platform', 'Venture Capital', 'Pet care', 'Drone',\n",
       "       'Wholesale', 'E-learning', 'Consumer Services',\n",
       "       'Venture Capital & Private Equity', 'Health, Wellness & Fitness',\n",
       "       'OTT', 'Education Management', 'Computer Software',\n",
       "       'Software Startup', 'Computer & Network Security',\n",
       "       'Capital Markets', 'Social network', 'Hospital & Health Care',\n",
       "       'Music', 'Hauz Khas',\n",
       "       'Primary Business is Development and Manufacturing of Novel Healthcare Products in Effervescent forms using imported propriety ingredients.',\n",
       "       \"MoEVing is India's only Electric Mobility focused Technology Platform with a vision to accelerate EV adoption in India.\",\n",
       "       'Mobility', 'Digital platform', 'B2B Ecommerce', 'Online Media',\n",
       "       'Mobile Games', 'Food Production', 'Podcast', 'Battery',\n",
       "       'Content publishing', 'Water purification', 'Content commerce',\n",
       "       'Innovation Management', 'Celebrity Engagement', 'Personal Care',\n",
       "       'Cannabis startup', 'Blogging', 'BioTechnology', 'B2B Marketplace',\n",
       "       'Health care', 'Social audio', 'Fashion and lifestyle',\n",
       "       'Delivery service', 'B2B Manufacturing', 'Home Decor', 'Solar',\n",
       "       'TaaS startup', 'Manufacturing startup', 'Vehicle repair startup',\n",
       "       'Advisory firm', 'Legaltech', 'Pollution control equiptment',\n",
       "       'Fashion & Lifestyle', 'D2C', 'Environmental Services',\n",
       "       'Merchandise', 'Facilities Services', 'Marketing & Advertising',\n",
       "       'Eyewear', 'D2C Business', 'NFT Marketplace', 'Consumer software',\n",
       "       'Social community', 'Fishery', 'Renewables & Environment',\n",
       "       'Online storytelling', 'Aviation', 'IT company',\n",
       "       'Environmental service', 'Job discovery platform', 'D2C Fashion',\n",
       "       'Heathcare', 'CRM', 'D2C startup', 'Innovation management',\n",
       "       'Community platform', 'Networking', 'Commercial Real Estate',\n",
       "       'Consumer service', 'Consumer goods', 'MarTech', 'Advertisement',\n",
       "       'Content creation', 'Augmented reality', 'Bike Rental',\n",
       "       'Beauty products', 'Tourism', 'FemTech', 'Cultural',\n",
       "       'Supply chain platform', 'Social platform', 'Real estate',\n",
       "       'AI company', 'Sports startup', 'Matrimony', 'Crypto', 'Clothing',\n",
       "       'Analytics', 'IoT platform', 'Commerce', 'Defense & Space',\n",
       "       'Business Supplies & Equipment', 'NFT', 'Oil & Energy',\n",
       "       'Company-as-a-Service', 'Textiles',\n",
       "       'Professional Training & Coaching', 'Maritime',\n",
       "       'Housing Marketplace', 'Furniture Rental', 'Telecommunications',\n",
       "       'Equity Management', 'Cloud kitchen', 'Community',\n",
       "       'Higher Education', 'Mechanical Or Industrial Engineering',\n",
       "       'D2C jewellery', 'Sales and Distribution', 'Information Services',\n",
       "       'Translation & Localization', 'Investment Banking', 'Femtech',\n",
       "       'sports', 'Foootwear', 'Legal Services', 'Arts & Crafts',\n",
       "       'Investment Management', 'Management Consulting', 'B2B startup',\n",
       "       'Sochcast is an Audio experiences company that give the listener and creators an Immersive Audio experience',\n",
       "       'Design', 'B2B Travel', 'Manchester, Greater Manchester',\n",
       "       'Product studio', 'Aviation & Aerospace', 'Staffing & Recruiting'],\n",
       "      dtype=object)"
      ]
     },
     "execution_count": 35,
     "metadata": {},
     "output_type": "execute_result"
    }
   ],
   "source": [
    "data['Sector'].unique()"
   ]
  },
  {
   "attachments": {},
   "cell_type": "markdown",
   "metadata": {},
   "source": [
    "Imputing all nan and  - column with what the company does so we can guess based on the keywords"
   ]
  },
  {
   "cell_type": "code",
   "execution_count": 36,
   "metadata": {},
   "outputs": [
    {
     "data": {
      "text/html": [
       "<div>\n",
       "<style scoped>\n",
       "    .dataframe tbody tr th:only-of-type {\n",
       "        vertical-align: middle;\n",
       "    }\n",
       "\n",
       "    .dataframe tbody tr th {\n",
       "        vertical-align: top;\n",
       "    }\n",
       "\n",
       "    .dataframe thead th {\n",
       "        text-align: right;\n",
       "    }\n",
       "</style>\n",
       "<table border=\"1\" class=\"dataframe\">\n",
       "  <thead>\n",
       "    <tr style=\"text-align: right;\">\n",
       "      <th></th>\n",
       "      <th>Company/Brand</th>\n",
       "      <th>Sector</th>\n",
       "      <th>Stage</th>\n",
       "      <th>Amount($)</th>\n",
       "      <th>HeadQuarter</th>\n",
       "      <th>What it does</th>\n",
       "      <th>Founders</th>\n",
       "      <th>Investor</th>\n",
       "      <th>Year</th>\n",
       "    </tr>\n",
       "  </thead>\n",
       "  <tbody>\n",
       "    <tr>\n",
       "      <th>0</th>\n",
       "      <td>TheCollegeFever</td>\n",
       "      <td>brand marketing, event promotion, marketing, s...</td>\n",
       "      <td>Seed</td>\n",
       "      <td>250000.0</td>\n",
       "      <td>Bangalore</td>\n",
       "      <td>TheCollegeFever is a hub for fun, fiesta and f...</td>\n",
       "      <td>NaN</td>\n",
       "      <td>NaN</td>\n",
       "      <td>2018</td>\n",
       "    </tr>\n",
       "    <tr>\n",
       "      <th>1</th>\n",
       "      <td>Happy Cow Dairy</td>\n",
       "      <td>agriculture, farming</td>\n",
       "      <td>Seed</td>\n",
       "      <td>584000.0</td>\n",
       "      <td>Mumbai</td>\n",
       "      <td>A startup which aggregates milk from dairy far...</td>\n",
       "      <td>NaN</td>\n",
       "      <td>NaN</td>\n",
       "      <td>2018</td>\n",
       "    </tr>\n",
       "    <tr>\n",
       "      <th>2</th>\n",
       "      <td>MyLoanCare</td>\n",
       "      <td>credit, financial services, lending, marketplace</td>\n",
       "      <td>Series A</td>\n",
       "      <td>949000.0</td>\n",
       "      <td>Gurgaon</td>\n",
       "      <td>Leading Online Loans Marketplace in India</td>\n",
       "      <td>NaN</td>\n",
       "      <td>NaN</td>\n",
       "      <td>2018</td>\n",
       "    </tr>\n",
       "    <tr>\n",
       "      <th>3</th>\n",
       "      <td>PayMe India</td>\n",
       "      <td>financial services, fintech</td>\n",
       "      <td>Angel</td>\n",
       "      <td>2000000.0</td>\n",
       "      <td>Noida</td>\n",
       "      <td>PayMe India is an innovative FinTech organizat...</td>\n",
       "      <td>NaN</td>\n",
       "      <td>NaN</td>\n",
       "      <td>2018</td>\n",
       "    </tr>\n",
       "    <tr>\n",
       "      <th>4</th>\n",
       "      <td>Eunimart</td>\n",
       "      <td>e-commerce platforms, retail, saas</td>\n",
       "      <td>Seed</td>\n",
       "      <td>0.0</td>\n",
       "      <td>Hyderabad</td>\n",
       "      <td>Eunimart is a one stop solution for merchants ...</td>\n",
       "      <td>NaN</td>\n",
       "      <td>NaN</td>\n",
       "      <td>2018</td>\n",
       "    </tr>\n",
       "  </tbody>\n",
       "</table>\n",
       "</div>"
      ],
      "text/plain": [
       "     Company/Brand                                             Sector  \\\n",
       "0  TheCollegeFever  brand marketing, event promotion, marketing, s...   \n",
       "1  Happy Cow Dairy                               agriculture, farming   \n",
       "2       MyLoanCare   credit, financial services, lending, marketplace   \n",
       "3      PayMe India                        financial services, fintech   \n",
       "4         Eunimart                 e-commerce platforms, retail, saas   \n",
       "\n",
       "      Stage  Amount($) HeadQuarter  \\\n",
       "0      Seed   250000.0   Bangalore   \n",
       "1      Seed   584000.0      Mumbai   \n",
       "2  Series A   949000.0     Gurgaon   \n",
       "3     Angel  2000000.0       Noida   \n",
       "4      Seed        0.0   Hyderabad   \n",
       "\n",
       "                                        What it does Founders Investor  Year  \n",
       "0  TheCollegeFever is a hub for fun, fiesta and f...      NaN      NaN  2018  \n",
       "1  A startup which aggregates milk from dairy far...      NaN      NaN  2018  \n",
       "2          Leading Online Loans Marketplace in India      NaN      NaN  2018  \n",
       "3  PayMe India is an innovative FinTech organizat...      NaN      NaN  2018  \n",
       "4  Eunimart is a one stop solution for merchants ...      NaN      NaN  2018  "
      ]
     },
     "execution_count": 36,
     "metadata": {},
     "output_type": "execute_result"
    }
   ],
   "source": [
    "data['Sector'] = data['Sector'].apply(str)\n",
    "data['Sector'] = data['Sector'].str.lower()\n",
    "\n",
    "condition_1 = (data['Sector'] == 'nan') | (data['Sector'] == '—')\n",
    "data.loc[condition_1, 'Sector'] = data.loc[condition_1, 'What it does']\n",
    "data.head()"
   ]
  },
  {
   "attachments": {},
   "cell_type": "markdown",
   "metadata": {},
   "source": [
    "- Dealing with the multiple sector column to make it a little bit more concise\n",
    "- I will create a function and use the re module to search for specific key words for  a particluar industry/sector\n"
   ]
  },
  {
   "cell_type": "code",
   "execution_count": 37,
   "metadata": {},
   "outputs": [],
   "source": [
    "# for a more efficient regex grouping convert some more brief sector names\n",
    "\n",
    "data['Sector'] = data['Sector'].str.lower()\n",
    "data['Sector'] = data['Sector'].apply(lambda x: 'business consumer' if x == 'consumer' else x)\n",
    "data['Sector'] = data['Sector'].apply(lambda x: 'e-vehicle' if x == 'ev' else x)\n",
    "data['Sector'] = data['Sector'].apply(lambda x: 'tech' if x == 'it' else x)\n",
    "\n",
    "def sector_redistribution(sector):\n",
    "    if re.search('bank|fintech|financ|crypto|account|credit|venture|crowd|blockchain|fund|lending|trading|wealth|insurance|insurance|remittance|money|wealth|equity|investment|mortgage|nft|payments', sector):\n",
    "        return 'Finance'\n",
    "    elif re.search('automotive|air transport|transport|logistics|vehicle|transportation|delivery|aviation|vehicles|tyre|fleet|wheels|aero|mobility|aeorspace|wl & rac protection|micro-mobiity', sector):\n",
    "        return 'Transport'\n",
    "    elif re.search('clean energy|energy|oil &|oil|solar|electricity|environment', sector):\n",
    "        return 'Energy'\n",
    "    elif re.search(r'analytics|consulting|human|career|\\berp\\b|advertising|advertisement|market research|business|entrepre|recruit|hr|working|sultancy|advisory|work|job|management|skill|legal|crm|specific domain to individuals', sector):\n",
    "        return 'Business Intelligence'\n",
    "    elif re.search(r'intelligence|tech|cloud|artificial|data|internet|things|apps|android|software|computer|mobile|3d printing|funding platform|applications|file|embedded systems|online portals|fraud detection|search engine|nanotechnology|security|saas|it company|augmented reality|platform|drone|ar startup|aas|app|online|/|virtual|it startup|photonics|e tailor|\\bai\\b|ai & debt|ai company|ai chatbot|iot startup|ai startup|\\biot\\b',sector):\n",
    "        return 'Technology'\n",
    "    elif re.search('beauty|cosmetic|skincare|fashion|wear|cosmetics|textiles|eye|jewellery|cloth', sector):\n",
    "        return 'Beauty & Fashion'\n",
    "    elif re.search('decor|fitness|training|wellness|personal care|deisgn|craft|design|podcast|lifestyle|spiritual|matrimony|living|cultural', sector):\n",
    "        return 'LifeStyle'\n",
    "    elif re.search('edutech|education|learn|children|child|collaboration|edtech', sector):\n",
    "        return 'Education'\n",
    "    elif re.search('beverage|catering|cook|food', sector):\n",
    "        return 'Food & Beverages'\n",
    "    elif re.search('sports|esports|game|ball|player|manchester', sector):\n",
    "        return 'Sports'\n",
    "    elif re.search('customer|service|hospital|tourism|events|weedding|travel|hosts|booking|wedding|qsr', sector):\n",
    "        return 'Hospitality'\n",
    "    elif re.search('2|trade|enterpise|commerce|business|commercial|consumer goods|Marketplace|business consumer|marketing|retail|market|store|furniture|wholesale|wine & spirits|multinational|e-|packaging|sales|tplace|warehouse|fm|product|merchandise|reatil|conglomerates ', sector):\n",
    "        return 'Commerce'\n",
    "    elif re.search('dental|health|health insurance|medic|supplement|biopharma|veterinary|pharma|heathcare|nutrition|hygiene|care|sanitation|bio|cannabis|tobacco|sciences', sector):\n",
    "        return 'Health'\n",
    "    elif re.search('agri|biotechnology|Industrial|farming|fish|milk|diary|dairy|dairy startup', sector):\n",
    "        return 'Agriculture'\n",
    "    elif re.search('battery|manufacturing|electronics|industrial automation|aerospace|conductor|gaming|robotics|engineering|mechanical|appliance|automation|ev startup|startup laboratory|e-vehicle|luxury car', sector):\n",
    "        return 'Manufacturing'\n",
    "    elif re.search('communities|smart cities|government|classifieds|community|water|defense|pollution|translation & localization|taxation|maritime', sector):\n",
    "        return 'Government'\n",
    "    elif re.search('media|dating|music|audio|gaming|creative|entertainment|broadcasting|video|blogging|content|celebrity|ott', sector):\n",
    "        return 'Media & Entertainment'\n",
    "    elif re.search('apartment|real estate|home|interior|construction|rental|housing|accomodation|hauz', sector):\n",
    "        return 'Real Estate'\n",
    "    elif re.search('telecom|news|escrow|publication', sector):\n",
    "        return 'Telecommunications'\n",
    "    else:\n",
    "        return sector\n",
    "    \n",
    "\n",
    "data['Sector'] = data['Sector'].apply(sector_redistribution)"
   ]
  },
  {
   "cell_type": "code",
   "execution_count": 38,
   "metadata": {},
   "outputs": [
    {
     "data": {
      "text/plain": [
       "array(['Commerce', 'Agriculture', 'Finance', 'Technology',\n",
       "       'Business Intelligence', 'Transport', 'Manufacturing',\n",
       "       'Food & Beverages', 'Education', 'Beauty & Fashion', 'Energy',\n",
       "       'LifeStyle', 'Hospitality', 'Media & Entertainment', 'Health',\n",
       "       'Sports', 'Real Estate', 'Government', 'Telecommunications'],\n",
       "      dtype=object)"
      ]
     },
     "execution_count": 38,
     "metadata": {},
     "output_type": "execute_result"
    }
   ],
   "source": [
    "data['Sector'].unique()"
   ]
  },
  {
   "cell_type": "code",
   "execution_count": 39,
   "metadata": {},
   "outputs": [
    {
     "data": {
      "text/plain": [
       "(19,)"
      ]
     },
     "execution_count": 39,
     "metadata": {},
     "output_type": "execute_result"
    }
   ],
   "source": [
    "data['Sector'].unique().shape"
   ]
  },
  {
   "attachments": {},
   "cell_type": "markdown",
   "metadata": {},
   "source": [
    "### Clean up stage column\n",
    "\n",
    "I will be using the common finance stages used in business with a few assumptions \n",
    "\n",
    "Assumptions\n",
    "\n",
    "- Pre-Seed :  Pre-seed and non equity assistance \n",
    "- Angel : angel investors \n",
    "- Seed : Every stage that contains a digit is also in the seed stage\n",
    "- Pre-Series : This refers to the stage between the seed round and the series A round\n",
    "- Series A : Series A\n",
    "- Series B : Series B\n",
    "- Series C : Series C\n",
    "- Later Stage : Any stage beyound C that is not grant or equity\n",
    "- Grant : Grant\n",
    "- Equity : Equity"
   ]
  },
  {
   "cell_type": "code",
   "execution_count": 40,
   "metadata": {},
   "outputs": [
    {
     "data": {
      "text/html": [
       "<div>\n",
       "<style scoped>\n",
       "    .dataframe tbody tr th:only-of-type {\n",
       "        vertical-align: middle;\n",
       "    }\n",
       "\n",
       "    .dataframe tbody tr th {\n",
       "        vertical-align: top;\n",
       "    }\n",
       "\n",
       "    .dataframe thead th {\n",
       "        text-align: right;\n",
       "    }\n",
       "</style>\n",
       "<table border=\"1\" class=\"dataframe\">\n",
       "  <thead>\n",
       "    <tr style=\"text-align: right;\">\n",
       "      <th></th>\n",
       "      <th>Company/Brand</th>\n",
       "      <th>Sector</th>\n",
       "      <th>Stage</th>\n",
       "      <th>Amount($)</th>\n",
       "      <th>HeadQuarter</th>\n",
       "      <th>What it does</th>\n",
       "      <th>Founders</th>\n",
       "      <th>Investor</th>\n",
       "      <th>Year</th>\n",
       "    </tr>\n",
       "  </thead>\n",
       "  <tbody>\n",
       "  </tbody>\n",
       "</table>\n",
       "</div>"
      ],
      "text/plain": [
       "Empty DataFrame\n",
       "Columns: [Company/Brand, Sector, Stage, Amount($), HeadQuarter, What it does, Founders, Investor, Year]\n",
       "Index: []"
      ]
     },
     "execution_count": 40,
     "metadata": {},
     "output_type": "execute_result"
    }
   ],
   "source": [
    "data[data['Stage'] == np.nan]"
   ]
  },
  {
   "cell_type": "code",
   "execution_count": 41,
   "metadata": {},
   "outputs": [
    {
     "data": {
      "text/plain": [
       "array(['Seed', 'Series A', 'Angel', 'Series B', 'Pre-Seed',\n",
       "       'Private Equity', 'Venture - Series Unknown', 'Grant',\n",
       "       'Debt Financing', 'Post-IPO Debt', 'Series H', 'Series C',\n",
       "       'Series E', 'Corporate Round', 'Undisclosed',\n",
       "       'https://docs.google.com/spreadsheets/d/1x9ziNeaz6auNChIHnMI8U6kS7knTr3byy_YBGfQaoUA/edit#gid=1861303593',\n",
       "       'Series D', 'Secondary Market', 'Post-IPO Equity',\n",
       "       'Non-equity Assistance', 'Funding Round', nan, 'Fresh funding',\n",
       "       'Pre series A', 'Series G', 'Post series A', 'Seed funding',\n",
       "       'Seed fund', 'Series F', 'Series B+', 'Seed round', 'Pre-series A',\n",
       "       'Pre-seed', 'Pre-series', 'Debt', 'Pre-series C', 'Pre-series B',\n",
       "       'Bridge', 'Series B2', 'Pre- series A', 'Edge', 'Pre-Series B',\n",
       "       'Seed A', 'Series A-1', 'Seed Funding', 'Pre-seed Round',\n",
       "       'Seed Round & Series A', 'Pre Series A', 'Pre seed Round',\n",
       "       'Angel Round', 'Pre series A1', 'Series E2', 'Seed Round',\n",
       "       'Bridge Round', 'Pre seed round', 'Pre series B', 'Pre series C',\n",
       "       'Seed Investment', 'Series D1', 'Mid series', 'Series C, D',\n",
       "       '$1200000', 'Seed+', 'Series F2', 'Series A+', 'Series B3', 'PE',\n",
       "       'Series F1', 'Pre-series A1', '$300000', 'Early seed', '$6000000',\n",
       "       '$1000000', 'Seies A', 'Series A2', 'Series I'], dtype=object)"
      ]
     },
     "execution_count": 41,
     "metadata": {},
     "output_type": "execute_result"
    }
   ],
   "source": [
    "data['Stage'].unique()"
   ]
  },
  {
   "cell_type": "code",
   "execution_count": 42,
   "metadata": {},
   "outputs": [],
   "source": [
    "data['Stage'] = data['Stage'].apply(str)\n",
    "data['Stage'] = data['Stage'].str.lower()\n",
    "\n",
    "seed_condition = data['Stage'] == 'seed'\n",
    "data.loc[seed_condition, 'Stage'] = 'Seed'"
   ]
  },
  {
   "cell_type": "code",
   "execution_count": 43,
   "metadata": {},
   "outputs": [],
   "source": [
    "data['Stage'] = data['Stage'].apply(str)\n",
    "def categorize_stage(stage):\n",
    "    if re.search('angel', stage):\n",
    "        return 'Angel'\n",
    "    elif re.search('seed stage|seed round|seed\\+|\\d|funding round|seed investment|seed fund', stage):\n",
    "        return 'Seed'\n",
    "    elif re.search('non-equity assistance|pre-seed|early', stage):\n",
    "        return 'Pre-Seed'\n",
    "    elif re.search('bridge|pre-series', stage):\n",
    "        return 'Pre-Series'\n",
    "    elif re.search('series a|seies a|pre-series b|seed a', stage):\n",
    "        return 'Series A'\n",
    "    elif re.search('series b|b3|b2|series b\\+|mid series', stage):\n",
    "        return 'Series B'\n",
    "    elif re.search('series c', stage):\n",
    "        return 'Series C'\n",
    "    elif re.search('grant', stage):\n",
    "        return 'Grant'\n",
    "    elif re.search('pe|private equity|secondary market', stage):\n",
    "        return 'Equity'\n",
    "    elif re.search('post-ipo equity|b3|h|f2|e2|d1|f1|series f1|series g|series f|series e|series i|series d|edge|corporate round', stage):\n",
    "        return 'Later Stage'\n",
    "    elif re.search('debt', stage):\n",
    "        return 'Debt Financing'\n",
    "    # elif re.search('^\\$$|https|nan|unknown|undisclosed', stage):\n",
    "    #     return 'Unknown Stage'\n",
    "    else:\n",
    "        return stage\n",
    "    \n",
    "data['Stage'] = data['Stage'].apply(categorize_stage)"
   ]
  },
  {
   "cell_type": "code",
   "execution_count": 44,
   "metadata": {},
   "outputs": [
    {
     "data": {
      "text/plain": [
       "array(['Seed', 'Series A', 'Angel', 'Series B', 'Pre-Seed', 'Equity',\n",
       "       'venture - series unknown', 'Grant', 'Debt Financing',\n",
       "       'Later Stage', 'Series C', 'undisclosed', 'nan', 'Pre-Series'],\n",
       "      dtype=object)"
      ]
     },
     "execution_count": 44,
     "metadata": {},
     "output_type": "execute_result"
    }
   ],
   "source": [
    "data['Stage'].unique()"
   ]
  },
  {
   "attachments": {},
   "cell_type": "markdown",
   "metadata": {},
   "source": [
    "Making sure all categorical columns are in string format\n",
    "\n",
    " - First we have to make sure that all Nan values are changed to human understandable word like Unknown, for the investor and Founder columns.\n",
    " - We will need this for analysis instead of just droping it\n",
    " - Remember that NaN values will become 'nan' strings \n",
    "   - I will apply the lower() method for easy manipulation"
   ]
  },
  {
   "cell_type": "code",
   "execution_count": 45,
   "metadata": {},
   "outputs": [
    {
     "data": {
      "text/html": [
       "<div>\n",
       "<style scoped>\n",
       "    .dataframe tbody tr th:only-of-type {\n",
       "        vertical-align: middle;\n",
       "    }\n",
       "\n",
       "    .dataframe tbody tr th {\n",
       "        vertical-align: top;\n",
       "    }\n",
       "\n",
       "    .dataframe thead th {\n",
       "        text-align: right;\n",
       "    }\n",
       "</style>\n",
       "<table border=\"1\" class=\"dataframe\">\n",
       "  <thead>\n",
       "    <tr style=\"text-align: right;\">\n",
       "      <th></th>\n",
       "      <th>Company/Brand</th>\n",
       "      <th>Sector</th>\n",
       "      <th>Stage</th>\n",
       "      <th>Amount($)</th>\n",
       "      <th>HeadQuarter</th>\n",
       "      <th>What it does</th>\n",
       "      <th>Founders</th>\n",
       "      <th>Investor</th>\n",
       "      <th>Year</th>\n",
       "    </tr>\n",
       "  </thead>\n",
       "  <tbody>\n",
       "  </tbody>\n",
       "</table>\n",
       "</div>"
      ],
      "text/plain": [
       "Empty DataFrame\n",
       "Columns: [Company/Brand, Sector, Stage, Amount($), HeadQuarter, What it does, Founders, Investor, Year]\n",
       "Index: []"
      ]
     },
     "execution_count": 45,
     "metadata": {},
     "output_type": "execute_result"
    }
   ],
   "source": [
    "data[data['Stage'] == 'Unknown Stage']"
   ]
  },
  {
   "cell_type": "code",
   "execution_count": 46,
   "metadata": {},
   "outputs": [
    {
     "data": {
      "text/plain": [
       "Company/Brand      0\n",
       "Sector             0\n",
       "Stage              0\n",
       "Amount($)          8\n",
       "HeadQuarter        0\n",
       "What it does       0\n",
       "Founders         544\n",
       "Investor         624\n",
       "Year               0\n",
       "dtype: int64"
      ]
     },
     "execution_count": 46,
     "metadata": {},
     "output_type": "execute_result"
    }
   ],
   "source": [
    "data.isna().sum()"
   ]
  },
  {
   "cell_type": "code",
   "execution_count": 47,
   "metadata": {},
   "outputs": [],
   "source": [
    "data['Founders'] = data['Founders'].apply(str)\n",
    "data['Investor'] = data['Investor'].apply(str)\n",
    "data['Founders'] = data['Founders'].str.lower()\n",
    "data['Investor'] = data['Investor'].str.lower()\n",
    "\n",
    "founder_filter = data['Founders'] == 'nan'\n",
    "investor_filter = data['Investor'] == 'nan'\n",
    "\n",
    "data.loc[founder_filter, 'Founders'] = 'Founder Unknown'\n",
    "data.loc[investor_filter, 'Investor'] = 'Investor Unknown'"
   ]
  },
  {
   "attachments": {},
   "cell_type": "markdown",
   "metadata": {},
   "source": [
    "Now we will have no null values instead it will be unknown\n",
    "\n",
    "1. Lets change the types of the company and What is does data type to string just to be safe\n",
    "2. I will also change the case of founders back to tile case since they contain human names #proper_nouns  #respect"
   ]
  },
  {
   "cell_type": "code",
   "execution_count": 48,
   "metadata": {},
   "outputs": [],
   "source": [
    "data['Company/Brand'] = data['Company/Brand'].apply(str)\n",
    "data['What it does'] = data['What it does'].apply(str)\n",
    "data['Investor'] = data['Investor'].str.title()"
   ]
  },
  {
   "cell_type": "code",
   "execution_count": 49,
   "metadata": {},
   "outputs": [
    {
     "name": "stdout",
     "output_type": "stream",
     "text": [
      "<class 'pandas.core.frame.DataFrame'>\n",
      "Int64Index: 2856 entries, 0 to 2878\n",
      "Data columns (total 9 columns):\n",
      " #   Column         Non-Null Count  Dtype  \n",
      "---  ------         --------------  -----  \n",
      " 0   Company/Brand  2856 non-null   object \n",
      " 1   Sector         2856 non-null   object \n",
      " 2   Stage          2856 non-null   object \n",
      " 3   Amount($)      2848 non-null   float64\n",
      " 4   HeadQuarter    2856 non-null   object \n",
      " 5   What it does   2856 non-null   object \n",
      " 6   Founders       2856 non-null   object \n",
      " 7   Investor       2856 non-null   object \n",
      " 8   Year           2856 non-null   object \n",
      "dtypes: float64(1), object(8)\n",
      "memory usage: 223.1+ KB\n"
     ]
    }
   ],
   "source": [
    "data.info()"
   ]
  },
  {
   "cell_type": "code",
   "execution_count": 50,
   "metadata": {},
   "outputs": [
    {
     "data": {
      "text/plain": [
       "Company/Brand    0\n",
       "Sector           0\n",
       "Stage            0\n",
       "Amount($)        8\n",
       "HeadQuarter      0\n",
       "What it does     0\n",
       "Founders         0\n",
       "Investor         0\n",
       "Year             0\n",
       "dtype: int64"
      ]
     },
     "execution_count": 50,
     "metadata": {},
     "output_type": "execute_result"
    }
   ],
   "source": [
    "data.isna().sum()"
   ]
  },
  {
   "attachments": {},
   "cell_type": "markdown",
   "metadata": {},
   "source": [
    "The only columns we have that are missing are the coerce values when converting the amount column into float. Neat\n",
    "\n",
    "#### Now, let's run do some testing but first, let's see the fruits of our labour\n"
   ]
  },
  {
   "cell_type": "code",
   "execution_count": 51,
   "metadata": {},
   "outputs": [
    {
     "data": {
      "text/html": [
       "<div>\n",
       "<style scoped>\n",
       "    .dataframe tbody tr th:only-of-type {\n",
       "        vertical-align: middle;\n",
       "    }\n",
       "\n",
       "    .dataframe tbody tr th {\n",
       "        vertical-align: top;\n",
       "    }\n",
       "\n",
       "    .dataframe thead th {\n",
       "        text-align: right;\n",
       "    }\n",
       "</style>\n",
       "<table border=\"1\" class=\"dataframe\">\n",
       "  <thead>\n",
       "    <tr style=\"text-align: right;\">\n",
       "      <th></th>\n",
       "      <th>Company/Brand</th>\n",
       "      <th>Sector</th>\n",
       "      <th>Stage</th>\n",
       "      <th>Amount($)</th>\n",
       "      <th>HeadQuarter</th>\n",
       "      <th>What it does</th>\n",
       "      <th>Founders</th>\n",
       "      <th>Investor</th>\n",
       "      <th>Year</th>\n",
       "    </tr>\n",
       "  </thead>\n",
       "  <tbody>\n",
       "    <tr>\n",
       "      <th>0</th>\n",
       "      <td>TheCollegeFever</td>\n",
       "      <td>Commerce</td>\n",
       "      <td>Seed</td>\n",
       "      <td>250000.0</td>\n",
       "      <td>Bangalore</td>\n",
       "      <td>TheCollegeFever is a hub for fun, fiesta and f...</td>\n",
       "      <td>Founder Unknown</td>\n",
       "      <td>Investor Unknown</td>\n",
       "      <td>2018</td>\n",
       "    </tr>\n",
       "    <tr>\n",
       "      <th>1</th>\n",
       "      <td>Happy Cow Dairy</td>\n",
       "      <td>Agriculture</td>\n",
       "      <td>Seed</td>\n",
       "      <td>584000.0</td>\n",
       "      <td>Mumbai</td>\n",
       "      <td>A startup which aggregates milk from dairy far...</td>\n",
       "      <td>Founder Unknown</td>\n",
       "      <td>Investor Unknown</td>\n",
       "      <td>2018</td>\n",
       "    </tr>\n",
       "    <tr>\n",
       "      <th>2</th>\n",
       "      <td>MyLoanCare</td>\n",
       "      <td>Finance</td>\n",
       "      <td>Series A</td>\n",
       "      <td>949000.0</td>\n",
       "      <td>Gurgaon</td>\n",
       "      <td>Leading Online Loans Marketplace in India</td>\n",
       "      <td>Founder Unknown</td>\n",
       "      <td>Investor Unknown</td>\n",
       "      <td>2018</td>\n",
       "    </tr>\n",
       "    <tr>\n",
       "      <th>3</th>\n",
       "      <td>PayMe India</td>\n",
       "      <td>Finance</td>\n",
       "      <td>Angel</td>\n",
       "      <td>2000000.0</td>\n",
       "      <td>Noida</td>\n",
       "      <td>PayMe India is an innovative FinTech organizat...</td>\n",
       "      <td>Founder Unknown</td>\n",
       "      <td>Investor Unknown</td>\n",
       "      <td>2018</td>\n",
       "    </tr>\n",
       "    <tr>\n",
       "      <th>4</th>\n",
       "      <td>Eunimart</td>\n",
       "      <td>Technology</td>\n",
       "      <td>Seed</td>\n",
       "      <td>0.0</td>\n",
       "      <td>Hyderabad</td>\n",
       "      <td>Eunimart is a one stop solution for merchants ...</td>\n",
       "      <td>Founder Unknown</td>\n",
       "      <td>Investor Unknown</td>\n",
       "      <td>2018</td>\n",
       "    </tr>\n",
       "  </tbody>\n",
       "</table>\n",
       "</div>"
      ],
      "text/plain": [
       "     Company/Brand       Sector     Stage  Amount($) HeadQuarter  \\\n",
       "0  TheCollegeFever     Commerce      Seed   250000.0   Bangalore   \n",
       "1  Happy Cow Dairy  Agriculture      Seed   584000.0      Mumbai   \n",
       "2       MyLoanCare      Finance  Series A   949000.0     Gurgaon   \n",
       "3      PayMe India      Finance     Angel  2000000.0       Noida   \n",
       "4         Eunimart   Technology      Seed        0.0   Hyderabad   \n",
       "\n",
       "                                        What it does         Founders  \\\n",
       "0  TheCollegeFever is a hub for fun, fiesta and f...  Founder Unknown   \n",
       "1  A startup which aggregates milk from dairy far...  Founder Unknown   \n",
       "2          Leading Online Loans Marketplace in India  Founder Unknown   \n",
       "3  PayMe India is an innovative FinTech organizat...  Founder Unknown   \n",
       "4  Eunimart is a one stop solution for merchants ...  Founder Unknown   \n",
       "\n",
       "           Investor  Year  \n",
       "0  Investor Unknown  2018  \n",
       "1  Investor Unknown  2018  \n",
       "2  Investor Unknown  2018  \n",
       "3  Investor Unknown  2018  \n",
       "4  Investor Unknown  2018  "
      ]
     },
     "execution_count": 51,
     "metadata": {},
     "output_type": "execute_result"
    }
   ],
   "source": [
    "data.head()"
   ]
  },
  {
   "attachments": {},
   "cell_type": "markdown",
   "metadata": {},
   "source": [
    "I will be using Anova in this example since I have more than 2 classes in my Sector column. 19 to be precise. Let's verify"
   ]
  },
  {
   "cell_type": "code",
   "execution_count": 52,
   "metadata": {},
   "outputs": [
    {
     "data": {
      "text/plain": [
       "array(['Commerce', 'Agriculture', 'Finance', 'Technology',\n",
       "       'Business Intelligence', 'Transport', 'Manufacturing',\n",
       "       'Food & Beverages', 'Education', 'Beauty & Fashion', 'Energy',\n",
       "       'LifeStyle', 'Hospitality', 'Media & Entertainment', 'Health',\n",
       "       'Sports', 'Real Estate', 'Government', 'Telecommunications'],\n",
       "      dtype=object)"
      ]
     },
     "execution_count": 52,
     "metadata": {},
     "output_type": "execute_result"
    }
   ],
   "source": [
    "data['Sector'].unique()"
   ]
  },
  {
   "cell_type": "code",
   "execution_count": 53,
   "metadata": {},
   "outputs": [
    {
     "data": {
      "text/plain": [
       "(19,)"
      ]
     },
     "execution_count": 53,
     "metadata": {},
     "output_type": "execute_result"
    }
   ],
   "source": [
    "data['Sector'].unique().shape"
   ]
  },
  {
   "attachments": {},
   "cell_type": "markdown",
   "metadata": {},
   "source": [
    " First, remember that we have about 8 missing values in the Amounts column. We have to drop this to we can get our test score"
   ]
  },
  {
   "cell_type": "code",
   "execution_count": 54,
   "metadata": {},
   "outputs": [
    {
     "data": {
      "text/plain": [
       "True"
      ]
     },
     "execution_count": 54,
     "metadata": {},
     "output_type": "execute_result"
    }
   ],
   "source": [
    "data['Amount($)'].isna().any()"
   ]
  },
  {
   "cell_type": "code",
   "execution_count": 55,
   "metadata": {},
   "outputs": [],
   "source": [
    "data.dropna(subset=['Amount($)'], inplace=True)"
   ]
  },
  {
   "cell_type": "code",
   "execution_count": 56,
   "metadata": {},
   "outputs": [
    {
     "data": {
      "text/plain": [
       "0.0          550\n",
       "1000000.0    167\n",
       "2000000.0    116\n",
       "3000000.0     81\n",
       "5000000.0     80\n",
       "            ... \n",
       "1080000.0      1\n",
       "4050000.0      1\n",
       "682000.0       1\n",
       "410000.0       1\n",
       "6200000.0      1\n",
       "Name: Amount($), Length: 512, dtype: int64"
      ]
     },
     "execution_count": 56,
     "metadata": {},
     "output_type": "execute_result"
    }
   ],
   "source": [
    "data['Amount($)'].value_counts()"
   ]
  },
  {
   "cell_type": "code",
   "execution_count": 57,
   "metadata": {},
   "outputs": [
    {
     "data": {
      "text/plain": [
       "False"
      ]
     },
     "execution_count": 57,
     "metadata": {},
     "output_type": "execute_result"
    }
   ],
   "source": [
    "data['Amount($)'].isna().any()"
   ]
  },
  {
   "cell_type": "code",
   "execution_count": 58,
   "metadata": {},
   "outputs": [
    {
     "name": "stdout",
     "output_type": "stream",
     "text": [
      "The F-Stat is 0.2722866216585456\n",
      "The P-Value is 0.9989917208744746\n"
     ]
    }
   ],
   "source": [
    "# Let's create the groups \n",
    "\n",
    "all_industry = data.groupby('Sector')\n",
    "\n",
    "commerce = all_industry.get_group('Commerce')['Amount($)']\n",
    "agric = all_industry.get_group('Agriculture')['Amount($)']\n",
    "finance = all_industry.get_group('Finance')['Amount($)']\n",
    "tech = all_industry.get_group('Technology')['Amount($)']\n",
    "food = all_industry.get_group('Food & Beverages')['Amount($)']\n",
    "education = all_industry.get_group('Education')['Amount($)']\n",
    "bi = all_industry.get_group('Business Intelligence')['Amount($)']\n",
    "transport = all_industry.get_group('Transport')['Amount($)']\n",
    "manufacturing = all_industry.get_group('Manufacturing')['Amount($)']\n",
    "energy = all_industry.get_group('Energy')['Amount($)']\n",
    "lifestyle = all_industry.get_group('LifeStyle')['Amount($)']\n",
    "hospitality = all_industry.get_group('Hospitality')['Amount($)']\n",
    "health = all_industry.get_group('Health')['Amount($)']\n",
    "sports = all_industry.get_group('Sports')['Amount($)']\n",
    "beauty = all_industry.get_group('Beauty & Fashion')['Amount($)']\n",
    "real_estate = all_industry.get_group('Real Estate')['Amount($)']\n",
    "media = all_industry.get_group('Media & Entertainment')['Amount($)']\n",
    "government = all_industry.get_group('Government')['Amount($)']\n",
    "telco = all_industry.get_group('Telecommunications')['Amount($)']\n",
    "\n",
    "\n",
    "f_stat, p_value = stats.f_oneway(commerce, agric, finance, tech, food,\n",
    "                                 education, bi, transport, manufacturing, energy, lifestyle,hospitality, \n",
    "                                 health, sports, beauty, real_estate, media, government, telco)\n",
    "\n",
    "print(f\"The F-Stat is {f_stat}\")\n",
    "print(f\"The P-Value is {p_value}\")"
   ]
  },
  {
   "attachments": {},
   "cell_type": "markdown",
   "metadata": {},
   "source": [
    "Well, that is a no brainer. It looks like we have failed to reject the null hypothesis that 'Funding is not dependent on industry'.\n",
    "\n",
    " - Our P-value is almost 100%. That is remarkable\n",
    "\n",
    "Now, let's answer the questions we had."
   ]
  },
  {
   "attachments": {},
   "cell_type": "markdown",
   "metadata": {},
   "source": [
    "#### Question 1. What industry received the most funding?"
   ]
  },
  {
   "cell_type": "code",
   "execution_count": 59,
   "metadata": {},
   "outputs": [
    {
     "data": {
      "text/plain": [
       "0"
      ]
     },
     "execution_count": 59,
     "metadata": {},
     "output_type": "execute_result"
    }
   ],
   "source": [
    "data['Amount($)'].isna().sum()"
   ]
  },
  {
   "cell_type": "code",
   "execution_count": 60,
   "metadata": {},
   "outputs": [
    {
     "name": "stdout",
     "output_type": "stream",
     "text": [
      "<class 'pandas.core.frame.DataFrame'>\n",
      "Int64Index: 2848 entries, 0 to 2878\n",
      "Data columns (total 9 columns):\n",
      " #   Column         Non-Null Count  Dtype  \n",
      "---  ------         --------------  -----  \n",
      " 0   Company/Brand  2848 non-null   object \n",
      " 1   Sector         2848 non-null   object \n",
      " 2   Stage          2848 non-null   object \n",
      " 3   Amount($)      2848 non-null   float64\n",
      " 4   HeadQuarter    2848 non-null   object \n",
      " 5   What it does   2848 non-null   object \n",
      " 6   Founders       2848 non-null   object \n",
      " 7   Investor       2848 non-null   object \n",
      " 8   Year           2848 non-null   object \n",
      "dtypes: float64(1), object(8)\n",
      "memory usage: 222.5+ KB\n"
     ]
    }
   ],
   "source": [
    "data.info()"
   ]
  },
  {
   "cell_type": "code",
   "execution_count": 61,
   "metadata": {},
   "outputs": [
    {
     "data": {
      "text/html": [
       "<div>\n",
       "<style scoped>\n",
       "    .dataframe tbody tr th:only-of-type {\n",
       "        vertical-align: middle;\n",
       "    }\n",
       "\n",
       "    .dataframe tbody tr th {\n",
       "        vertical-align: top;\n",
       "    }\n",
       "\n",
       "    .dataframe thead th {\n",
       "        text-align: right;\n",
       "    }\n",
       "</style>\n",
       "<table border=\"1\" class=\"dataframe\">\n",
       "  <thead>\n",
       "    <tr style=\"text-align: right;\">\n",
       "      <th></th>\n",
       "      <th>Amount($)</th>\n",
       "    </tr>\n",
       "    <tr>\n",
       "      <th>Sector</th>\n",
       "      <th></th>\n",
       "    </tr>\n",
       "  </thead>\n",
       "  <tbody>\n",
       "    <tr>\n",
       "      <th>Finance</th>\n",
       "      <td>8.886041e+13</td>\n",
       "    </tr>\n",
       "    <tr>\n",
       "      <th>Commerce</th>\n",
       "      <td>7.797614e+10</td>\n",
       "    </tr>\n",
       "    <tr>\n",
       "      <th>Technology</th>\n",
       "      <td>1.742269e+10</td>\n",
       "    </tr>\n",
       "    <tr>\n",
       "      <th>Transport</th>\n",
       "      <td>7.807359e+09</td>\n",
       "    </tr>\n",
       "    <tr>\n",
       "      <th>Hospitality</th>\n",
       "      <td>2.628187e+09</td>\n",
       "    </tr>\n",
       "  </tbody>\n",
       "</table>\n",
       "</div>"
      ],
      "text/plain": [
       "                Amount($)\n",
       "Sector                   \n",
       "Finance      8.886041e+13\n",
       "Commerce     7.797614e+10\n",
       "Technology   1.742269e+10\n",
       "Transport    7.807359e+09\n",
       "Hospitality  2.628187e+09"
      ]
     },
     "execution_count": 61,
     "metadata": {},
     "output_type": "execute_result"
    }
   ],
   "source": [
    "top_sectors = data[['Sector', 'Amount($)']].groupby('Sector').sum().sort_values(by='Amount($)', ascending=False).head()\n",
    "top_sectors"
   ]
  },
  {
   "cell_type": "code",
   "execution_count": 62,
   "metadata": {},
   "outputs": [
    {
     "data": {
      "image/png": "[encoded data removed]",
      "text/plain": [
       "<Figure size 1200x600 with 1 Axes>"
      ]
     },
     "metadata": {},
     "output_type": "display_data"
    }
   ],
   "source": [
    "plt.figure(figsize=(12, 6))\n",
    "sns.barplot(x=top_sectors.index, y='Amount($)', data=top_sectors)\n",
    "plt.ylim(0, top_sectors['Amount($)'].max() * 0.003)\n",
    "plt.title('Top Sectors by Funding')\n",
    "plt.xlabel('Sector')\n",
    "plt.ylabel('Total Funding ($)')\n",
    "plt.show()"
   ]
  },
  {
   "attachments": {},
   "cell_type": "markdown",
   "metadata": {},
   "source": [
    "#### Question 2. Which locations receive more funding?"
   ]
  },
  {
   "cell_type": "code",
   "execution_count": 63,
   "metadata": {},
   "outputs": [
    {
     "data": {
      "text/html": [
       "<div>\n",
       "<style scoped>\n",
       "    .dataframe tbody tr th:only-of-type {\n",
       "        vertical-align: middle;\n",
       "    }\n",
       "\n",
       "    .dataframe tbody tr th {\n",
       "        vertical-align: top;\n",
       "    }\n",
       "\n",
       "    .dataframe thead th {\n",
       "        text-align: right;\n",
       "    }\n",
       "</style>\n",
       "<table border=\"1\" class=\"dataframe\">\n",
       "  <thead>\n",
       "    <tr style=\"text-align: right;\">\n",
       "      <th></th>\n",
       "      <th>Amount($)</th>\n",
       "    </tr>\n",
       "    <tr>\n",
       "      <th>HeadQuarter</th>\n",
       "      <th></th>\n",
       "    </tr>\n",
       "  </thead>\n",
       "  <tbody>\n",
       "    <tr>\n",
       "      <th>Gurugram</th>\n",
       "      <td>8.870557e+13</td>\n",
       "    </tr>\n",
       "    <tr>\n",
       "      <th>Mumbai</th>\n",
       "      <td>2.302235e+11</td>\n",
       "    </tr>\n",
       "    <tr>\n",
       "      <th>Bangalore</th>\n",
       "      <td>2.362316e+10</td>\n",
       "    </tr>\n",
       "    <tr>\n",
       "      <th>New Delhi</th>\n",
       "      <td>3.238922e+09</td>\n",
       "    </tr>\n",
       "    <tr>\n",
       "      <th>California</th>\n",
       "      <td>3.078300e+09</td>\n",
       "    </tr>\n",
       "  </tbody>\n",
       "</table>\n",
       "</div>"
      ],
      "text/plain": [
       "                Amount($)\n",
       "HeadQuarter              \n",
       "Gurugram     8.870557e+13\n",
       "Mumbai       2.302235e+11\n",
       "Bangalore    2.362316e+10\n",
       "New Delhi    3.238922e+09\n",
       "California   3.078300e+09"
      ]
     },
     "execution_count": 63,
     "metadata": {},
     "output_type": "execute_result"
    }
   ],
   "source": [
    "location = data[['HeadQuarter', 'Amount($)']].groupby('HeadQuarter').sum().sort_values(by='Amount($)', ascending=False).head(5)\n",
    "location"
   ]
  },
  {
   "attachments": {},
   "cell_type": "markdown",
   "metadata": {},
   "source": [
    "#### Question 3. In which year is funding the highest?"
   ]
  },
  {
   "cell_type": "code",
   "execution_count": 64,
   "metadata": {},
   "outputs": [
    {
     "data": {
      "text/html": [
       "<div>\n",
       "<style scoped>\n",
       "    .dataframe tbody tr th:only-of-type {\n",
       "        vertical-align: middle;\n",
       "    }\n",
       "\n",
       "    .dataframe tbody tr th {\n",
       "        vertical-align: top;\n",
       "    }\n",
       "\n",
       "    .dataframe thead th {\n",
       "        text-align: right;\n",
       "    }\n",
       "</style>\n",
       "<table border=\"1\" class=\"dataframe\">\n",
       "  <thead>\n",
       "    <tr style=\"text-align: right;\">\n",
       "      <th></th>\n",
       "      <th>Amount($)</th>\n",
       "    </tr>\n",
       "    <tr>\n",
       "      <th>Year</th>\n",
       "      <th></th>\n",
       "    </tr>\n",
       "  </thead>\n",
       "  <tbody>\n",
       "    <tr>\n",
       "      <th>2018</th>\n",
       "      <td>5.572364e+09</td>\n",
       "    </tr>\n",
       "    <tr>\n",
       "      <th>2019</th>\n",
       "      <td>3.336433e+09</td>\n",
       "    </tr>\n",
       "    <tr>\n",
       "      <th>2020</th>\n",
       "      <td>8.879008e+13</td>\n",
       "    </tr>\n",
       "    <tr>\n",
       "      <th>2021</th>\n",
       "      <td>1.795707e+11</td>\n",
       "    </tr>\n",
       "  </tbody>\n",
       "</table>\n",
       "</div>"
      ],
      "text/plain": [
       "         Amount($)\n",
       "Year              \n",
       "2018  5.572364e+09\n",
       "2019  3.336433e+09\n",
       "2020  8.879008e+13\n",
       "2021  1.795707e+11"
      ]
     },
     "execution_count": 64,
     "metadata": {},
     "output_type": "execute_result"
    }
   ],
   "source": [
    "highest_funding = data[['Year', 'Amount($)']].groupby('Year').sum()\n",
    "highest_funding"
   ]
  },
  {
   "attachments": {},
   "cell_type": "markdown",
   "metadata": {},
   "source": [
    "#### Question 4. How many compnies received funding above $100,000,000 and what industry are they in?"
   ]
  },
  {
   "cell_type": "code",
   "execution_count": 74,
   "metadata": {},
   "outputs": [
    {
     "data": {
      "text/html": [
       "<div>\n",
       "<style scoped>\n",
       "    .dataframe tbody tr th:only-of-type {\n",
       "        vertical-align: middle;\n",
       "    }\n",
       "\n",
       "    .dataframe tbody tr th {\n",
       "        vertical-align: top;\n",
       "    }\n",
       "\n",
       "    .dataframe thead th {\n",
       "        text-align: right;\n",
       "    }\n",
       "</style>\n",
       "<table border=\"1\" class=\"dataframe\">\n",
       "  <thead>\n",
       "    <tr style=\"text-align: right;\">\n",
       "      <th></th>\n",
       "      <th>Company/Brand</th>\n",
       "      <th>Sector</th>\n",
       "      <th>Amount($)</th>\n",
       "    </tr>\n",
       "  </thead>\n",
       "  <tbody>\n",
       "    <tr>\n",
       "      <th>1080</th>\n",
       "      <td>True Balance</td>\n",
       "      <td>Finance</td>\n",
       "      <td>8.870002e+13</td>\n",
       "    </tr>\n",
       "    <tr>\n",
       "      <th>1743</th>\n",
       "      <td>Alteria Capital</td>\n",
       "      <td>Finance</td>\n",
       "      <td>1.500000e+11</td>\n",
       "    </tr>\n",
       "    <tr>\n",
       "      <th>895</th>\n",
       "      <td>Reliance Retail Ventures Ltd</td>\n",
       "      <td>Commerce</td>\n",
       "      <td>7.000000e+10</td>\n",
       "    </tr>\n",
       "    <tr>\n",
       "      <th>932</th>\n",
       "      <td>Snowflake</td>\n",
       "      <td>Technology</td>\n",
       "      <td>3.000000e+09</td>\n",
       "    </tr>\n",
       "    <tr>\n",
       "      <th>943</th>\n",
       "      <td>Reliance</td>\n",
       "      <td>Commerce</td>\n",
       "      <td>2.200000e+09</td>\n",
       "    </tr>\n",
       "  </tbody>\n",
       "</table>\n",
       "</div>"
      ],
      "text/plain": [
       "                     Company/Brand      Sector     Amount($)\n",
       "1080                  True Balance     Finance  8.870002e+13\n",
       "1743               Alteria Capital     Finance  1.500000e+11\n",
       "895   Reliance Retail Ventures Ltd    Commerce  7.000000e+10\n",
       "932                      Snowflake  Technology  3.000000e+09\n",
       "943                       Reliance    Commerce  2.200000e+09"
      ]
     },
     "execution_count": 74,
     "metadata": {},
     "output_type": "execute_result"
    }
   ],
   "source": [
    "ten_million_filter = data['Amount($)'] >= 100000000\n",
    "# condition_1\n",
    "\n",
    "data.loc[ten_million_filter, ['Company/Brand', 'Sector', 'Amount($)']].sort_values('Amount($)', ascending=False).head(5)"
   ]
  },
  {
   "attachments": {},
   "cell_type": "markdown",
   "metadata": {},
   "source": [
    "#### Question 5. For companies in the pre-seed stage of funding, how much is the average pre-seed amount, and what industry are they in?"
   ]
  },
  {
   "cell_type": "code",
   "execution_count": 67,
   "metadata": {},
   "outputs": [
    {
     "name": "stdout",
     "output_type": "stream",
     "text": [
      "The average amount for companies in the Pre-Seed sector is $415,514.706\n"
     ]
    }
   ],
   "source": [
    "pre_seed = data['Stage'] == 'Pre-Seed'\n",
    "\n",
    "average = data.loc[pre_seed, 'Amount($)'].mean()\n",
    "\n",
    "print(f'The average amount for companies in the Pre-Seed sector is ${average:,.3f}')"
   ]
  },
  {
   "cell_type": "code",
   "execution_count": 68,
   "metadata": {},
   "outputs": [
    {
     "data": {
      "text/html": [
       "<div>\n",
       "<style scoped>\n",
       "    .dataframe tbody tr th:only-of-type {\n",
       "        vertical-align: middle;\n",
       "    }\n",
       "\n",
       "    .dataframe tbody tr th {\n",
       "        vertical-align: top;\n",
       "    }\n",
       "\n",
       "    .dataframe thead th {\n",
       "        text-align: right;\n",
       "    }\n",
       "</style>\n",
       "<table border=\"1\" class=\"dataframe\">\n",
       "  <thead>\n",
       "    <tr style=\"text-align: right;\">\n",
       "      <th></th>\n",
       "      <th>Company/Brand</th>\n",
       "      <th>Sector</th>\n",
       "      <th>Stage</th>\n",
       "      <th>HeadQuarter</th>\n",
       "      <th>What it does</th>\n",
       "      <th>Founders</th>\n",
       "      <th>Investor</th>\n",
       "      <th>Year</th>\n",
       "    </tr>\n",
       "  </thead>\n",
       "  <tbody>\n",
       "    <tr>\n",
       "      <th>count</th>\n",
       "      <td>68</td>\n",
       "      <td>68</td>\n",
       "      <td>68</td>\n",
       "      <td>68</td>\n",
       "      <td>68</td>\n",
       "      <td>68</td>\n",
       "      <td>68</td>\n",
       "      <td>68</td>\n",
       "    </tr>\n",
       "    <tr>\n",
       "      <th>unique</th>\n",
       "      <td>67</td>\n",
       "      <td>13</td>\n",
       "      <td>1</td>\n",
       "      <td>18</td>\n",
       "      <td>68</td>\n",
       "      <td>61</td>\n",
       "      <td>54</td>\n",
       "      <td>3</td>\n",
       "    </tr>\n",
       "    <tr>\n",
       "      <th>top</th>\n",
       "      <td>NeoDocs</td>\n",
       "      <td>Technology</td>\n",
       "      <td>Pre-Seed</td>\n",
       "      <td>Bangalore</td>\n",
       "      <td>Tranzmeo Connect : is A Complete Comprehensive...</td>\n",
       "      <td>Founder Unknown</td>\n",
       "      <td>Investor Unknown</td>\n",
       "      <td>2021</td>\n",
       "    </tr>\n",
       "    <tr>\n",
       "      <th>freq</th>\n",
       "      <td>2</td>\n",
       "      <td>24</td>\n",
       "      <td>68</td>\n",
       "      <td>25</td>\n",
       "      <td>1</td>\n",
       "      <td>8</td>\n",
       "      <td>8</td>\n",
       "      <td>48</td>\n",
       "    </tr>\n",
       "  </tbody>\n",
       "</table>\n",
       "</div>"
      ],
      "text/plain": [
       "       Company/Brand      Sector     Stage HeadQuarter  \\\n",
       "count             68          68        68          68   \n",
       "unique            67          13         1          18   \n",
       "top          NeoDocs  Technology  Pre-Seed   Bangalore   \n",
       "freq               2          24        68          25   \n",
       "\n",
       "                                             What it does         Founders  \\\n",
       "count                                                  68               68   \n",
       "unique                                                 68               61   \n",
       "top     Tranzmeo Connect : is A Complete Comprehensive...  Founder Unknown   \n",
       "freq                                                    1                8   \n",
       "\n",
       "                Investor  Year  \n",
       "count                 68    68  \n",
       "unique                54     3  \n",
       "top     Investor Unknown  2021  \n",
       "freq                   8    48  "
      ]
     },
     "execution_count": 68,
     "metadata": {},
     "output_type": "execute_result"
    }
   ],
   "source": [
    "sector_of_preseed = data[pre_seed].describe(include='object')\n",
    "sector_of_preseed"
   ]
  },
  {
   "cell_type": "code",
   "execution_count": 69,
   "metadata": {},
   "outputs": [
    {
     "name": "stdout",
     "output_type": "stream",
     "text": [
      "They tend to be in the Technology sector\n"
     ]
    }
   ],
   "source": [
    "print(f'They tend to be in the {sector_of_preseed.iloc[2,1]} sector')"
   ]
  }
 ],
 "metadata": {
  "kernelspec": {
   "display_name": "Python 3",
   "language": "python",
   "name": "python3"
  },
  "language_info": {
   "codemirror_mode": {
    "name": "ipython",
    "version": 3
   },
   "file_extension": ".py",
   "mimetype": "text/x-python",
   "name": "python",
   "nbconvert_exporter": "python",
   "pygments_lexer": "ipython3",
   "version": "3.11.2"
  },
  "orig_nbformat": 4
 },
 "nbformat": 4,
 "nbformat_minor": 2
}
